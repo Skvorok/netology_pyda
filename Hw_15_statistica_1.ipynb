{
  "nbformat": 4,
  "nbformat_minor": 0,
  "metadata": {
    "colab": {
      "name": "Hw_15_statistica_1.ipynb",
      "provenance": [],
      "collapsed_sections": [],
      "include_colab_link": true
    },
    "kernelspec": {
      "display_name": "Python 3",
      "language": "python",
      "name": "python3"
    },
    "language_info": {
      "codemirror_mode": {
        "name": "ipython",
        "version": 3
      },
      "file_extension": ".py",
      "mimetype": "text/x-python",
      "name": "python",
      "nbconvert_exporter": "python",
      "pygments_lexer": "ipython3",
      "version": "3.7.4"
    }
  },
  "cells": [
    {
      "cell_type": "markdown",
      "metadata": {
        "id": "view-in-github",
        "colab_type": "text"
      },
      "source": [
        "<a href=\"https://colab.research.google.com/github/Skvorok/netology_pyda/blob/master/Hw_15_statistica_1.ipynb\" target=\"_parent\"><img src=\"https://colab.research.google.com/assets/colab-badge.svg\" alt=\"Open In Colab\"/></a>"
      ]
    },
    {
      "cell_type": "markdown",
      "metadata": {
        "colab_type": "text",
        "id": "QVI-7gzMl70f"
      },
      "source": [
        "# Домашнее задание по статистическому анализу на python"
      ]
    },
    {
      "cell_type": "code",
      "metadata": {
        "colab_type": "code",
        "id": "4IGVqb7KvSxe",
        "colab": {}
      },
      "source": [
        "import pandas as pd\n",
        "import numpy as np\n",
        "import matplotlib.pyplot as plt\n",
        "import scipy.stats as sts\n",
        "%matplotlib inline\n",
        "import statistics\n"
      ],
      "execution_count": 0,
      "outputs": []
    },
    {
      "cell_type": "markdown",
      "metadata": {
        "colab_type": "text",
        "id": "cCvZIO1Kh7vZ"
      },
      "source": [
        "Загрузить датасет по url:\n"
      ]
    },
    {
      "cell_type": "code",
      "metadata": {
        "colab_type": "code",
        "id": "csAWXiRvh_YM",
        "colab": {}
      },
      "source": [
        "# следующая строчка подключает сертификат для защищенного соединения\n",
        "import ssl\n",
        "ssl._create_default_https_context = ssl._create_unverified_context\n",
        "# все данные загружаются с сервера\n",
        "url = \"http://yustiks.ru/dataset/world-happiness-report-2019.csv\"\n",
        "df = pd.read_csv(url)"
      ],
      "execution_count": 0,
      "outputs": []
    },
    {
      "cell_type": "markdown",
      "metadata": {
        "colab_type": "text",
        "id": "HtcpKepV8XDi"
      },
      "source": [
        "Более подробно о датасете можно прочитать по [данной ссылке](https://data.world/promptcloud/world-happiness-report-2019) или по [ссылке в kaggle](https://www.kaggle.com/PromptCloudHQ/world-happiness-report-2019)"
      ]
    },
    {
      "cell_type": "markdown",
      "metadata": {
        "colab_type": "text",
        "id": "UN13GCGcijj_"
      },
      "source": [
        "Context\n",
        "\n",
        "The World Happiness Report is a landmark survey of the state of global happiness that ranks 156 countries by how happy their citizens perceive themselves to be. This year’s World Happiness Report focuses on happiness and the community: how happiness has evolved over the past dozen years, with a focus on the technologies, social norms, conflicts and government policies that have driven those changes.\n"
      ]
    },
    {
      "cell_type": "markdown",
      "metadata": {
        "colab_type": "text",
        "id": "2NSXs9iSi0dU"
      },
      "source": [
        "\n",
        "*  **Country (region)** Name of the country.\n",
        "*  **Ladder** Cantril Ladder is a measure of life satisfaction.\n",
        "*  **SD of Ladder** Standard deviation of the ladder.\n",
        "*  **Positive affect** Measure of positive emotion.\n",
        "*  **Negative affect** Measure of negative emotion.\n",
        "*  **Social support** The extent to which Social support contributed to the calculation of the Happiness Score.\n",
        "*  **Freedom** The extent to which Freedom contributed to the calculation of the Happiness Score.\n",
        "*  **Corruption** The extent to which Perception of Corruption contributes to Happiness Score.\n",
        "*  **Generosity** The extent to which Generosity contributed to the calculation of the Happiness Score.\n",
        "*  **Log of GDP per capita** The extent to which GDP contributes to the calculation of the Happiness Score.\n",
        "*  **Healthy life expectancy** The extent to which Life expectancy contributed to the calculation of the Happiness Score."
      ]
    },
    {
      "cell_type": "markdown",
      "metadata": {
        "colab_type": "text",
        "id": "23plwhw1j0ba"
      },
      "source": [
        "Задание 1. Посмотреть первые несколько рядов таблицы"
      ]
    },
    {
      "cell_type": "code",
      "metadata": {
        "colab_type": "code",
        "id": "QCIq_bWfj7IG",
        "outputId": "7e2c4e2e-d684-4d11-f981-43ed1e8dd730",
        "colab": {}
      },
      "source": [
        "df.head() "
      ],
      "execution_count": 0,
      "outputs": [
        {
          "output_type": "execute_result",
          "data": {
            "text/html": [
              "<div>\n",
              "<style scoped>\n",
              "    .dataframe tbody tr th:only-of-type {\n",
              "        vertical-align: middle;\n",
              "    }\n",
              "\n",
              "    .dataframe tbody tr th {\n",
              "        vertical-align: top;\n",
              "    }\n",
              "\n",
              "    .dataframe thead th {\n",
              "        text-align: right;\n",
              "    }\n",
              "</style>\n",
              "<table border=\"1\" class=\"dataframe\">\n",
              "  <thead>\n",
              "    <tr style=\"text-align: right;\">\n",
              "      <th></th>\n",
              "      <th>Country (region)</th>\n",
              "      <th>Ladder</th>\n",
              "      <th>SD of Ladder</th>\n",
              "      <th>Positive affect</th>\n",
              "      <th>Negative affect</th>\n",
              "      <th>Social support</th>\n",
              "      <th>Freedom</th>\n",
              "      <th>Corruption</th>\n",
              "      <th>Generosity</th>\n",
              "      <th>Log of GDP\\nper capita</th>\n",
              "      <th>Healthy life\\nexpectancy</th>\n",
              "    </tr>\n",
              "  </thead>\n",
              "  <tbody>\n",
              "    <tr>\n",
              "      <td>0</td>\n",
              "      <td>Finland</td>\n",
              "      <td>1</td>\n",
              "      <td>4</td>\n",
              "      <td>41.0</td>\n",
              "      <td>10.0</td>\n",
              "      <td>2.0</td>\n",
              "      <td>5.0</td>\n",
              "      <td>4.0</td>\n",
              "      <td>47.0</td>\n",
              "      <td>22.0</td>\n",
              "      <td>27.0</td>\n",
              "    </tr>\n",
              "    <tr>\n",
              "      <td>1</td>\n",
              "      <td>Denmark</td>\n",
              "      <td>2</td>\n",
              "      <td>13</td>\n",
              "      <td>24.0</td>\n",
              "      <td>26.0</td>\n",
              "      <td>4.0</td>\n",
              "      <td>6.0</td>\n",
              "      <td>3.0</td>\n",
              "      <td>22.0</td>\n",
              "      <td>14.0</td>\n",
              "      <td>23.0</td>\n",
              "    </tr>\n",
              "    <tr>\n",
              "      <td>2</td>\n",
              "      <td>Norway</td>\n",
              "      <td>3</td>\n",
              "      <td>8</td>\n",
              "      <td>16.0</td>\n",
              "      <td>29.0</td>\n",
              "      <td>3.0</td>\n",
              "      <td>3.0</td>\n",
              "      <td>8.0</td>\n",
              "      <td>11.0</td>\n",
              "      <td>7.0</td>\n",
              "      <td>12.0</td>\n",
              "    </tr>\n",
              "    <tr>\n",
              "      <td>3</td>\n",
              "      <td>Iceland</td>\n",
              "      <td>4</td>\n",
              "      <td>9</td>\n",
              "      <td>3.0</td>\n",
              "      <td>3.0</td>\n",
              "      <td>1.0</td>\n",
              "      <td>7.0</td>\n",
              "      <td>45.0</td>\n",
              "      <td>3.0</td>\n",
              "      <td>15.0</td>\n",
              "      <td>13.0</td>\n",
              "    </tr>\n",
              "    <tr>\n",
              "      <td>4</td>\n",
              "      <td>Netherlands</td>\n",
              "      <td>5</td>\n",
              "      <td>1</td>\n",
              "      <td>12.0</td>\n",
              "      <td>25.0</td>\n",
              "      <td>15.0</td>\n",
              "      <td>19.0</td>\n",
              "      <td>12.0</td>\n",
              "      <td>7.0</td>\n",
              "      <td>12.0</td>\n",
              "      <td>18.0</td>\n",
              "    </tr>\n",
              "  </tbody>\n",
              "</table>\n",
              "</div>"
            ],
            "text/plain": [
              "  Country (region)  Ladder  SD of Ladder  Positive affect  Negative affect  \\\n",
              "0          Finland       1             4             41.0             10.0   \n",
              "1          Denmark       2            13             24.0             26.0   \n",
              "2           Norway       3             8             16.0             29.0   \n",
              "3          Iceland       4             9              3.0              3.0   \n",
              "4      Netherlands       5             1             12.0             25.0   \n",
              "\n",
              "   Social support  Freedom  Corruption  Generosity  Log of GDP\\nper capita  \\\n",
              "0             2.0      5.0         4.0        47.0                    22.0   \n",
              "1             4.0      6.0         3.0        22.0                    14.0   \n",
              "2             3.0      3.0         8.0        11.0                     7.0   \n",
              "3             1.0      7.0        45.0         3.0                    15.0   \n",
              "4            15.0     19.0        12.0         7.0                    12.0   \n",
              "\n",
              "   Healthy life\\nexpectancy  \n",
              "0                      27.0  \n",
              "1                      23.0  \n",
              "2                      12.0  \n",
              "3                      13.0  \n",
              "4                      18.0  "
            ]
          },
          "metadata": {
            "tags": []
          },
          "execution_count": 4
        }
      ]
    },
    {
      "cell_type": "markdown",
      "metadata": {
        "colab_type": "text",
        "id": "XCFa8CtdjrqJ"
      },
      "source": [
        "Задание 2. Построить частотный график для двух параметров: Freedom и positive affect. Какое это распределение?"
      ]
    },
    {
      "cell_type": "code",
      "metadata": {
        "colab_type": "code",
        "id": "Ia4zd3G2kUEI",
        "outputId": "48c850ea-aea7-4287-ad26-6b71e7c5f8db",
        "colab": {
          "base_uri": "https://localhost:8080/",
          "height": 282
        }
      },
      "source": [
        "df.Freedom.hist()"
      ],
      "execution_count": 5,
      "outputs": [
        {
          "output_type": "execute_result",
          "data": {
            "text/plain": [
              "<matplotlib.axes._subplots.AxesSubplot at 0x7fa9e1f25438>"
            ]
          },
          "metadata": {
            "tags": []
          },
          "execution_count": 5
        },
        {
          "output_type": "display_data",
          "data": {
            "image/png": "[encoded data removed]",
            "text/plain": [
              "<Figure size 432x288 with 1 Axes>"
            ]
          },
          "metadata": {
            "tags": []
          }
        }
      ]
    },
    {
      "cell_type": "markdown",
      "metadata": {
        "id": "qNYreeH7zeeD",
        "colab_type": "text"
      },
      "source": [
        "Распределение - равномерное."
      ]
    },
    {
      "cell_type": "code",
      "metadata": {
        "id": "-75sWXbYz45M",
        "colab_type": "code",
        "colab": {
          "base_uri": "https://localhost:8080/",
          "height": 282
        },
        "outputId": "dea78620-f8bc-4327-f741-cf270f412cad"
      },
      "source": [
        "df[\"Positive affect\"].hist()"
      ],
      "execution_count": 6,
      "outputs": [
        {
          "output_type": "execute_result",
          "data": {
            "text/plain": [
              "<matplotlib.axes._subplots.AxesSubplot at 0x7fa9e1a16d68>"
            ]
          },
          "metadata": {
            "tags": []
          },
          "execution_count": 6
        },
        {
          "output_type": "display_data",
          "data": {
            "image/png": "[encoded data removed]",
            "text/plain": [
              "<Figure size 432x288 with 1 Axes>"
            ]
          },
          "metadata": {
            "tags": []
          }
        }
      ]
    },
    {
      "cell_type": "markdown",
      "metadata": {
        "id": "uFn81-3O0S1J",
        "colab_type": "text"
      },
      "source": [
        "Данный параметр представляет собой равномерное распрделение."
      ]
    },
    {
      "cell_type": "markdown",
      "metadata": {
        "colab_type": "text",
        "id": "nBwpKop7j8HH"
      },
      "source": [
        "Задание 3. Найти медиану, моду, математическое ожидание, стандартное отклонение,  дисперсию, минимум и максимум, найти выбросы (если есть), размах для колонки Freedom"
      ]
    },
    {
      "cell_type": "code",
      "metadata": {
        "colab_type": "code",
        "id": "yjqwOGyskPXw",
        "outputId": "ef6fd903-1ba0-4766-b78e-49b66a0848dc",
        "colab": {
          "base_uri": "https://localhost:8080/",
          "height": 466
        }
      },
      "source": [
        "df = df.dropna()\n",
        "print(f'медиана {statistics.median(df.Freedom)}')\n",
        "print(f'мат.ожидание {statistics.mean(df.Freedom)}')\n",
        "\n",
        "print(f'минимум {df.Freedom.min()}')\n",
        "print(f'максимум {df.Freedom.max()}')\n",
        "print(f'размах {df.Freedom.max()-df.Freedom.min()}')\n",
        "print(f'стандартное отклонение {statistics.pstdev(df.Freedom)}')\n",
        "print(f'дисперсия {statistics.pvariance(df.Freedom)}')\n",
        "print(f'количество отсутствующих значений {df.Freedom.isnull().sum()}')\n",
        "\n",
        "print(f'мода {statistics.mode(df.Freedom)}')\n"
      ],
      "execution_count": 7,
      "outputs": [
        {
          "output_type": "stream",
          "text": [
            "медиана 79.5\n",
            "мат.ожидание 78.82857142857142\n",
            "минимум 1.0\n",
            "максимум 155.0\n",
            "размах 154.0\n",
            "стандартное отклонение 44.9475794449399\n",
            "дисперсия 2020.2848979591836\n",
            "количество отсутствующих значений 0\n"
          ],
          "name": "stdout"
        },
        {
          "output_type": "error",
          "ename": "StatisticsError",
          "evalue": "ignored",
          "traceback": [
            "\u001b[0;31m---------------------------------------------------------------------------\u001b[0m",
            "\u001b[0;31mStatisticsError\u001b[0m                           Traceback (most recent call last)",
            "\u001b[0;32m<ipython-input-7-388fdc736e5a>\u001b[0m in \u001b[0;36m<module>\u001b[0;34m()\u001b[0m\n\u001b[1;32m     10\u001b[0m \u001b[0mprint\u001b[0m\u001b[0;34m(\u001b[0m\u001b[0;34mf'количество отсутствующих значений {df.Freedom.isnull().sum()}'\u001b[0m\u001b[0;34m)\u001b[0m\u001b[0;34m\u001b[0m\u001b[0;34m\u001b[0m\u001b[0m\n\u001b[1;32m     11\u001b[0m \u001b[0;34m\u001b[0m\u001b[0m\n\u001b[0;32m---> 12\u001b[0;31m \u001b[0mprint\u001b[0m\u001b[0;34m(\u001b[0m\u001b[0;34mf'мода {statistics.mode(df.Freedom)}'\u001b[0m\u001b[0;34m)\u001b[0m\u001b[0;34m\u001b[0m\u001b[0;34m\u001b[0m\u001b[0m\n\u001b[0m",
            "\u001b[0;32m/usr/lib/python3.6/statistics.py\u001b[0m in \u001b[0;36mmode\u001b[0;34m(data)\u001b[0m\n\u001b[1;32m    505\u001b[0m     \u001b[0;32melif\u001b[0m \u001b[0mtable\u001b[0m\u001b[0;34m:\u001b[0m\u001b[0;34m\u001b[0m\u001b[0;34m\u001b[0m\u001b[0m\n\u001b[1;32m    506\u001b[0m         raise StatisticsError(\n\u001b[0;32m--> 507\u001b[0;31m                 \u001b[0;34m'no unique mode; found %d equally common values'\u001b[0m \u001b[0;34m%\u001b[0m \u001b[0mlen\u001b[0m\u001b[0;34m(\u001b[0m\u001b[0mtable\u001b[0m\u001b[0;34m)\u001b[0m\u001b[0;34m\u001b[0m\u001b[0;34m\u001b[0m\u001b[0m\n\u001b[0m\u001b[1;32m    508\u001b[0m                 )\n\u001b[1;32m    509\u001b[0m     \u001b[0;32melse\u001b[0m\u001b[0;34m:\u001b[0m\u001b[0;34m\u001b[0m\u001b[0;34m\u001b[0m\u001b[0m\n",
            "\u001b[0;31mStatisticsError\u001b[0m: no unique mode; found 140 equally common values"
          ]
        }
      ]
    },
    {
      "cell_type": "markdown",
      "metadata": {
        "colab_type": "text",
        "id": "9pkdmtzkA3aH"
      },
      "source": [
        "Задание 4. Почему нельзя найти моду?"
      ]
    },
    {
      "cell_type": "markdown",
      "metadata": {
        "id": "P1xEX42T2Sca",
        "colab_type": "text"
      },
      "source": [
        "Ответ: так как нет наиболее частого значения, есть множество значений с одинаковой частотой, т.е. распредление параметра 'freedom' равномерное."
      ]
    },
    {
      "cell_type": "markdown",
      "metadata": {
        "colab_type": "text",
        "id": "U-7gpfzukf9l"
      },
      "source": [
        "Задание 5. Посмотреть корреляцию между Freedom и positive affect (графически и математически). Графически - plt.scatter, математически - посчитать коэффициент Пирсона. О чем говорит знак коэффициента?"
      ]
    },
    {
      "cell_type": "code",
      "metadata": {
        "colab_type": "code",
        "id": "mHKzz4H_kmto",
        "outputId": "1b7b4e7f-1f80-4be7-8bdc-2215611bf06d",
        "colab": {
          "base_uri": "https://localhost:8080/",
          "height": 312
        }
      },
      "source": [
        "# математически:\n",
        "pearson = sts.pearsonr(df['Freedom'].dropna(), df['Positive affect'].dropna())\n",
        "print(f'коэффициент Пирсона {pearson}')\n",
        "\n",
        "# графически:\n",
        "plt.scatter(df['Freedom'], df['Positive affect'])\n",
        "plt.grid(True)\n",
        "plt.xlabel('Freedom')\n",
        "plt.ylabel('Positive affect')\n",
        "plt.title('частотный график для Freedom и Positive affect')\n",
        "plt.show()"
      ],
      "execution_count": 10,
      "outputs": [
        {
          "output_type": "stream",
          "text": [
            "коэффициент Пирсона (0.6965670458090685, 1.2239087557813634e-21)\n"
          ],
          "name": "stdout"
        },
        {
          "output_type": "display_data",
          "data": {
            "image/png": "[encoded data removed]",
            "text/plain": [
              "<Figure size 432x288 with 1 Axes>"
            ]
          },
          "metadata": {
            "tags": []
          }
        }
      ]
    },
    {
      "cell_type": "markdown",
      "metadata": {
        "id": "mwPyxe2QxQ5Y",
        "colab_type": "text"
      },
      "source": [
        "Ответ на вопрос: знак коэффициента Пирсона говорит о степени корреляции величин между собой. При положительном коэффициенте у величин прямая связь, при отрицательном - обратная. "
      ]
    },
    {
      "cell_type": "markdown",
      "metadata": {
        "colab_type": "text",
        "id": "D6nsF28EksAu"
      },
      "source": [
        "Задание 6. Нормализовать данные колонки Freedom (централизация + масштабирование)"
      ]
    },
    {
      "cell_type": "code",
      "metadata": {
        "colab_type": "code",
        "id": "-OxSDHuXkywQ",
        "outputId": "49ca88b2-c96e-4081-b814-e0698840ae0a",
        "colab": {
          "base_uri": "https://localhost:8080/",
          "height": 122
        }
      },
      "source": [
        "# нормализация вручную:\n",
        "df['Freedom_norm'] = (df.Freedom-df.Freedom.mean())\n",
        "x = df.Freedom_norm.min()\n",
        "df.Freedom_norm = df.Freedom_norm/x\n",
        "print(df.Freedom_norm.max())\n",
        "print(df.Freedom_norm.min())\n",
        "print('\\n')\n",
        "\n",
        "# нормализация с помощью библиотек:\n",
        "from sklearn import preprocessing\n",
        "freedom_norm2 = preprocessing.MinMaxScaler(feature_range = (-1,1)).fit_transform(np.array(df.Freedom).reshape(-1, 1))\n",
        "print(freedom_norm2.min())\n",
        "print(freedom_norm2.max())"
      ],
      "execution_count": 18,
      "outputs": [
        {
          "output_type": "stream",
          "text": [
            "1.0\n",
            "-0.9787077826725405\n",
            "\n",
            "\n",
            "-0.9999999999999999\n",
            "1.0000000000000002\n"
          ],
          "name": "stdout"
        }
      ]
    },
    {
      "cell_type": "markdown",
      "metadata": {
        "colab_type": "text",
        "id": "4eOPS6fpkzKO"
      },
      "source": [
        "Задание 7. Построить матрицу корреляций для всех колонок таблицы."
      ]
    },
    {
      "cell_type": "code",
      "metadata": {
        "colab_type": "code",
        "id": "M4eCTmwtlCzY",
        "outputId": "1ac41488-ab4f-415b-fb16-87785373905a",
        "colab": {
          "base_uri": "https://localhost:8080/",
          "height": 1000
        }
      },
      "source": [
        "import seaborn as sns\n",
        "print(df.corr())\n",
        "\n",
        "sns.heatmap(df.corr(),annot = True,cmap = 'seismic',linewidths=0.2)\n",
        "plt.gcf().set_size_inches(15,15)"
      ],
      "execution_count": 20,
      "outputs": [
        {
          "output_type": "stream",
          "text": [
            "                            Ladder  ...  Freedom_norm\n",
            "Ladder                    1.000000  ...     -0.546414\n",
            "SD of Ladder              0.555987  ...     -0.250246\n",
            "Positive affect           0.511870  ...     -0.696567\n",
            "Negative affect           0.539677  ...     -0.415935\n",
            "Social support            0.833412  ...     -0.478613\n",
            "Freedom                   0.546414  ...     -1.000000\n",
            "Corruption                0.224394  ...     -0.407571\n",
            "Generosity                0.485704  ...     -0.498226\n",
            "Log of GDP\\nper capita    0.820608  ...     -0.385919\n",
            "Healthy life\\nexpectancy  0.826677  ...     -0.423949\n",
            "Freedom_norm             -0.546414  ...      1.000000\n",
            "\n",
            "[11 rows x 11 columns]\n"
          ],
          "name": "stdout"
        },
        {
          "output_type": "display_data",
          "data": {
            "image/png": "[encoded data removed]",
            "text/plain": [
              "<Figure size 1080x1080 with 2 Axes>"
            ]
          },
          "metadata": {
            "tags": []
          }
        }
      ]
    },
    {
      "cell_type": "markdown",
      "metadata": {
        "colab_type": "text",
        "id": "RAbZRTRG2Ci0"
      },
      "source": [
        "Задание 8. Загрузить таблицу цен на авокадо: "
      ]
    },
    {
      "cell_type": "code",
      "metadata": {
        "id": "NtQjcVndB4gH",
        "colab_type": "code",
        "colab": {
          "base_uri": "https://localhost:8080/",
          "height": 125
        },
        "outputId": "1296e38c-ac13-4b69-91fe-98ea8cce27c5"
      },
      "source": [
        "import platform\n",
        "if platform.system() == 'Linux':\n",
        "  from google.colab import drive\n",
        "  drive.mount('/content/drive')\n",
        "  trajectory = '/content/drive/My Drive/Colab Notebooks/'\n",
        "else:\n",
        "  trajectory = ''"
      ],
      "execution_count": 26,
      "outputs": [
        {
          "output_type": "stream",
          "text": [
            "Go to this URL in a browser: https://accounts.google.com/o/oauth2/auth?client_id=947318989803-6bn6qk8qdgf4n4g3pfee6491hc0brc4i.apps.googleusercontent.com&redirect_uri=urn%3aietf%3awg%3aoauth%3a2.0%3aoob&response_type=code&scope=email%20https%3a%2f%2fwww.googleapis.com%2fauth%2fdocs.test%20https%3a%2f%2fwww.googleapis.com%2fauth%2fdrive%20https%3a%2f%2fwww.googleapis.com%2fauth%2fdrive.photos.readonly%20https%3a%2f%2fwww.googleapis.com%2fauth%2fpeopleapi.readonly\n",
            "\n",
            "Enter your authorization code:\n",
            "··········\n",
            "Mounted at /content/drive\n"
          ],
          "name": "stdout"
        }
      ]
    },
    {
      "cell_type": "code",
      "metadata": {
        "colab_type": "code",
        "id": "gmgMOe_e2H-_",
        "outputId": "0668b36e-5f84-44a0-815a-0995abe5bac5",
        "colab": {
          "base_uri": "https://localhost:8080/",
          "height": 229
        }
      },
      "source": [
        "\n",
        "df = pd.read_csv(trajectory+'avocado.csv')\n",
        "df[:3]"
      ],
      "execution_count": 27,
      "outputs": [
        {
          "output_type": "execute_result",
          "data": {
            "text/html": [
              "<div>\n",
              "<style scoped>\n",
              "    .dataframe tbody tr th:only-of-type {\n",
              "        vertical-align: middle;\n",
              "    }\n",
              "\n",
              "    .dataframe tbody tr th {\n",
              "        vertical-align: top;\n",
              "    }\n",
              "\n",
              "    .dataframe thead th {\n",
              "        text-align: right;\n",
              "    }\n",
              "</style>\n",
              "<table border=\"1\" class=\"dataframe\">\n",
              "  <thead>\n",
              "    <tr style=\"text-align: right;\">\n",
              "      <th></th>\n",
              "      <th>Unnamed: 0</th>\n",
              "      <th>Date</th>\n",
              "      <th>AveragePrice</th>\n",
              "      <th>Total Volume</th>\n",
              "      <th>4046</th>\n",
              "      <th>4225</th>\n",
              "      <th>4770</th>\n",
              "      <th>Total Bags</th>\n",
              "      <th>Small Bags</th>\n",
              "      <th>Large Bags</th>\n",
              "      <th>XLarge Bags</th>\n",
              "      <th>type</th>\n",
              "      <th>year</th>\n",
              "      <th>region</th>\n",
              "    </tr>\n",
              "  </thead>\n",
              "  <tbody>\n",
              "    <tr>\n",
              "      <th>0</th>\n",
              "      <td>0</td>\n",
              "      <td>2015-12-27</td>\n",
              "      <td>1.33</td>\n",
              "      <td>64236.62</td>\n",
              "      <td>1036.74</td>\n",
              "      <td>54454.85</td>\n",
              "      <td>48.16</td>\n",
              "      <td>8696.87</td>\n",
              "      <td>8603.62</td>\n",
              "      <td>93.25</td>\n",
              "      <td>0.0</td>\n",
              "      <td>conventional</td>\n",
              "      <td>2015</td>\n",
              "      <td>Albany</td>\n",
              "    </tr>\n",
              "    <tr>\n",
              "      <th>1</th>\n",
              "      <td>1</td>\n",
              "      <td>2015-12-20</td>\n",
              "      <td>1.35</td>\n",
              "      <td>54876.98</td>\n",
              "      <td>674.28</td>\n",
              "      <td>44638.81</td>\n",
              "      <td>58.33</td>\n",
              "      <td>9505.56</td>\n",
              "      <td>9408.07</td>\n",
              "      <td>97.49</td>\n",
              "      <td>0.0</td>\n",
              "      <td>conventional</td>\n",
              "      <td>2015</td>\n",
              "      <td>Albany</td>\n",
              "    </tr>\n",
              "    <tr>\n",
              "      <th>2</th>\n",
              "      <td>2</td>\n",
              "      <td>2015-12-13</td>\n",
              "      <td>0.93</td>\n",
              "      <td>118220.22</td>\n",
              "      <td>794.70</td>\n",
              "      <td>109149.67</td>\n",
              "      <td>130.50</td>\n",
              "      <td>8145.35</td>\n",
              "      <td>8042.21</td>\n",
              "      <td>103.14</td>\n",
              "      <td>0.0</td>\n",
              "      <td>conventional</td>\n",
              "      <td>2015</td>\n",
              "      <td>Albany</td>\n",
              "    </tr>\n",
              "  </tbody>\n",
              "</table>\n",
              "</div>"
            ],
            "text/plain": [
              "   Unnamed: 0        Date  AveragePrice  ...          type  year  region\n",
              "0           0  2015-12-27          1.33  ...  conventional  2015  Albany\n",
              "1           1  2015-12-20          1.35  ...  conventional  2015  Albany\n",
              "2           2  2015-12-13          0.93  ...  conventional  2015  Albany\n",
              "\n",
              "[3 rows x 14 columns]"
            ]
          },
          "metadata": {
            "tags": []
          },
          "execution_count": 27
        }
      ]
    },
    {
      "cell_type": "markdown",
      "metadata": {
        "colab_type": "text",
        "id": "QmBGvAQKlkwq"
      },
      "source": [
        "Задание 9. Сделать частотный график колонки AveragePrice. Какое это распределение?"
      ]
    },
    {
      "cell_type": "code",
      "metadata": {
        "colab_type": "code",
        "id": "Und8GJxWlqIy",
        "outputId": "a9f34161-cda0-4a2e-c9f9-e1ca5fb3d497",
        "colab": {
          "base_uri": "https://localhost:8080/",
          "height": 282
        }
      },
      "source": [
        "df['AveragePrice'].hist(bins = 300)"
      ],
      "execution_count": 32,
      "outputs": [
        {
          "output_type": "execute_result",
          "data": {
            "text/plain": [
              "<matplotlib.axes._subplots.AxesSubplot at 0x7fa9db212ef0>"
            ]
          },
          "metadata": {
            "tags": []
          },
          "execution_count": 32
        },
        {
          "output_type": "display_data",
          "data": {
            "image/png": "[encoded data removed]",
            "text/plain": [
              "<Figure size 432x288 with 1 Axes>"
            ]
          },
          "metadata": {
            "tags": []
          }
        }
      ]
    },
    {
      "cell_type": "markdown",
      "metadata": {
        "id": "GA72szRXDC_-",
        "colab_type": "text"
      },
      "source": [
        "Ответ на вопрос: распределение похоже на логнормальное.\n"
      ]
    },
    {
      "cell_type": "markdown",
      "metadata": {
        "colab_type": "text",
        "id": "mCi-XdIAlrD4"
      },
      "source": [
        "Задание 10. Найти корреляцию в следующих колонках:колонкой 4046, 4225, 4770 и Average Price. Если корелляция есть (обратная или прямая), то какие выводы можно сделать?\n",
        "\n",
        "\n"
      ]
    },
    {
      "cell_type": "code",
      "metadata": {
        "colab_type": "code",
        "id": "RkPfhTovlvtk",
        "outputId": "8d4f8fa6-0f3e-4c18-911a-8b8b949917d2",
        "colab": {}
      },
      "source": [
        "df[['4046','4225','4770', 'AveragePrice']].corr()"
      ],
      "execution_count": 0,
      "outputs": [
        {
          "output_type": "execute_result",
          "data": {
            "text/html": [
              "<div>\n",
              "<style scoped>\n",
              "    .dataframe tbody tr th:only-of-type {\n",
              "        vertical-align: middle;\n",
              "    }\n",
              "\n",
              "    .dataframe tbody tr th {\n",
              "        vertical-align: top;\n",
              "    }\n",
              "\n",
              "    .dataframe thead th {\n",
              "        text-align: right;\n",
              "    }\n",
              "</style>\n",
              "<table border=\"1\" class=\"dataframe\">\n",
              "  <thead>\n",
              "    <tr style=\"text-align: right;\">\n",
              "      <th></th>\n",
              "      <th>4046</th>\n",
              "      <th>4225</th>\n",
              "      <th>4770</th>\n",
              "      <th>AveragePrice</th>\n",
              "    </tr>\n",
              "  </thead>\n",
              "  <tbody>\n",
              "    <tr>\n",
              "      <td>4046</td>\n",
              "      <td>1.000000</td>\n",
              "      <td>0.926110</td>\n",
              "      <td>0.833389</td>\n",
              "      <td>-0.208317</td>\n",
              "    </tr>\n",
              "    <tr>\n",
              "      <td>4225</td>\n",
              "      <td>0.926110</td>\n",
              "      <td>1.000000</td>\n",
              "      <td>0.887855</td>\n",
              "      <td>-0.172928</td>\n",
              "    </tr>\n",
              "    <tr>\n",
              "      <td>4770</td>\n",
              "      <td>0.833389</td>\n",
              "      <td>0.887855</td>\n",
              "      <td>1.000000</td>\n",
              "      <td>-0.179446</td>\n",
              "    </tr>\n",
              "    <tr>\n",
              "      <td>AveragePrice</td>\n",
              "      <td>-0.208317</td>\n",
              "      <td>-0.172928</td>\n",
              "      <td>-0.179446</td>\n",
              "      <td>1.000000</td>\n",
              "    </tr>\n",
              "  </tbody>\n",
              "</table>\n",
              "</div>"
            ],
            "text/plain": [
              "                  4046      4225      4770  AveragePrice\n",
              "4046          1.000000  0.926110  0.833389     -0.208317\n",
              "4225          0.926110  1.000000  0.887855     -0.172928\n",
              "4770          0.833389  0.887855  1.000000     -0.179446\n",
              "AveragePrice -0.208317 -0.172928 -0.179446      1.000000"
            ]
          },
          "metadata": {
            "tags": []
          },
          "execution_count": 106
        }
      ]
    },
    {
      "cell_type": "markdown",
      "metadata": {
        "id": "b0m1guxpxQ5o",
        "colab_type": "text"
      },
      "source": [
        "Между колонками 4046, 4225 и 4770 есть прямая корреляция, так как коэффициент положителен и приближен к 1. Это значит, что, скорее всего, эти величины взаимозависимы."
      ]
    }
  ]
}