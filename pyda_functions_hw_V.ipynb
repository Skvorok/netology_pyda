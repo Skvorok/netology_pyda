{
  "nbformat": 4,
  "nbformat_minor": 0,
  "metadata": {
    "kernelspec": {
      "display_name": "Python 3",
      "language": "python",
      "name": "python3"
    },
    "language_info": {
      "codemirror_mode": {
        "name": "ipython",
        "version": 3
      },
      "file_extension": ".py",
      "mimetype": "text/x-python",
      "name": "python",
      "nbconvert_exporter": "python",
      "pygments_lexer": "ipython3",
      "version": "3.7.4"
    },
    "colab": {
      "name": "pyda-functions-hw V.ipynb",
      "provenance": [],
      "collapsed_sections": [],
      "include_colab_link": true
    }
  },
  "cells": [
    {
      "cell_type": "markdown",
      "metadata": {
        "id": "view-in-github",
        "colab_type": "text"
      },
      "source": [
        "<a href=\"https://colab.research.google.com/github/Skvorok/netology_pyda/blob/master/pyda_functions_hw_V.ipynb\" target=\"_parent\"><img src=\"https://colab.research.google.com/assets/colab-badge.svg\" alt=\"Open In Colab\"/></a>"
      ]
    },
    {
      "cell_type": "markdown",
      "metadata": {
        "id": "pWzh9braViJ4",
        "colab_type": "text"
      },
      "source": [
        "## Задание 1"
      ]
    },
    {
      "cell_type": "markdown",
      "metadata": {
        "id": "tyKZkNINViJ9",
        "colab_type": "text"
      },
      "source": [
        "Дан список вида:"
      ]
    },
    {
      "cell_type": "code",
      "metadata": {
        "id": "_itpq0BQViJ_",
        "colab_type": "code",
        "colab": {}
      },
      "source": [
        "data = [\n",
        "    [13, 25, 23, 34],\n",
        "    [45, 32, 44, 47],\n",
        "    [12, 33, 23, 95],\n",
        "    [13, 53, 34, 35]\n",
        "]"
      ],
      "execution_count": 0,
      "outputs": []
    },
    {
      "cell_type": "markdown",
      "metadata": {
        "id": "kRDjey8vViKH",
        "colab_type": "text"
      },
      "source": [
        "Напишите функцию, которая возвращает сумму элементов на диагонали. Т. е. 13+32+23+35.  \n",
        "Список может быть любой длины, но всегда является \"квадратным\" (количество элементов во вложенных списках равно их количеству)."
      ]
    },
    {
      "cell_type": "code",
      "metadata": {
        "id": "K39-f5gTViKK",
        "colab_type": "code",
        "outputId": "39416179-afa2-4efc-9ec4-900502b4ac7b",
        "colab": {
          "base_uri": "https://localhost:8080/",
          "height": 34
        }
      },
      "source": [
        "def sum_of_diagonal(k):\n",
        "    num = []   \n",
        "    for p in range(len(k)):\n",
        "        num.append(k[p][p])\n",
        "    return sum(num)\n",
        "sum_of_diagonal(data)"
      ],
      "execution_count": 0,
      "outputs": [
        {
          "output_type": "execute_result",
          "data": {
            "text/plain": [
              "103"
            ]
          },
          "metadata": {
            "tags": []
          },
          "execution_count": 5
        }
      ]
    },
    {
      "cell_type": "markdown",
      "metadata": {
        "id": "Y-WhLXWeViKS",
        "colab_type": "text"
      },
      "source": [
        "## Задание 2"
      ]
    },
    {
      "cell_type": "markdown",
      "metadata": {
        "id": "-FqHtlzLViKU",
        "colab_type": "text"
      },
      "source": [
        "Напишите функцию, возвращающую сумму первых n чисел Фибоначчи (для этого вам может понадобится ознакомиться с рекурсией)."
      ]
    },
    {
      "cell_type": "code",
      "metadata": {
        "id": "9d3uva3QViKV",
        "colab_type": "code",
        "outputId": "2c318c49-dd82-420c-e5ae-894f155dfd34",
        "colab": {}
      },
      "source": [
        "# Числа Фибоначчи – это элементы числовой последовательности\n",
        "# 0, 1, 1, 2, 3, 5, 8, 13, 21, 34, 55, 89, 144, …, в которой каждое последующее число равно сумме двух предыдущих.\n",
        "\n",
        "def first_numbers_sum(n):\n",
        "    listt = [0,1]\n",
        "    num1 = 0\n",
        "    num2 = 1\n",
        "    for d in range(n - 2): \n",
        "        num3 = num1 + num2\n",
        "        listt.append(num3)\n",
        "        num1 = num2\n",
        "        num2 = num3\n",
        "    return sum(listt)\n",
        "\n",
        "first_numbers_sum(6)"
      ],
      "execution_count": 0,
      "outputs": [
        {
          "output_type": "execute_result",
          "data": {
            "text/plain": [
              "12"
            ]
          },
          "metadata": {
            "tags": []
          },
          "execution_count": 43
        }
      ]
    },
    {
      "cell_type": "markdown",
      "metadata": {
        "id": "FFPAWSuuViKd",
        "colab_type": "text"
      },
      "source": [
        "## Задание 3\n"
      ]
    },
    {
      "cell_type": "markdown",
      "metadata": {
        "id": "h8XcOw6kViKf",
        "colab_type": "text"
      },
      "source": [
        "Напишите функцию, преобразующую произвольный список вида ['2018-01-01', 'yandex', 'cpc', 100] (он может быть любой длины) в словарь {'2018-01-01': {'yandex': {'cpc': 100}}}"
      ]
    },
    {
      "cell_type": "code",
      "metadata": {
        "id": "FENdJB5sViKh",
        "colab_type": "code",
        "outputId": "4f296462-a196-4e25-9499-46abe7bcf671",
        "colab": {
          "base_uri": "https://localhost:8080/",
          "height": 34
        }
      },
      "source": [
        "# Написать функцию, которая список преобразует в словарь. \n",
        "source_list = ['2018-01-01', 'yandex', 'cpc', 100]\n",
        "\n",
        "def change_to_dict(source_list):\n",
        "  source_list.reverse()\n",
        "  k = source_list[0]\n",
        "  del(source_list[0])\n",
        "  for x in source_list:\n",
        "    k = {x:k}\n",
        "  return k\n",
        "\n",
        "change_to_dict(source_list)"
      ],
      "execution_count": 0,
      "outputs": [
        {
          "output_type": "execute_result",
          "data": {
            "text/plain": [
              "{'2018-01-01': {'yandex': {'cpc': 100}}}"
            ]
          },
          "metadata": {
            "tags": []
          },
          "execution_count": 48
        }
      ]
    },
    {
      "cell_type": "markdown",
      "metadata": {
        "id": "qAczNM5AViKt",
        "colab_type": "text"
      },
      "source": [
        "## Задание 4"
      ]
    },
    {
      "cell_type": "markdown",
      "metadata": {
        "id": "0FhsOnzqViKv",
        "colab_type": "text"
      },
      "source": [
        "Вы работаете секретарем и вам постоянно приходят различные документы. Вы должны быть очень внимательны, чтобы не потерять ни один документ. Каталог документов хранится в следующем виде:"
      ]
    },
    {
      "cell_type": "code",
      "metadata": {
        "id": "G1mhmJIdViKw",
        "colab_type": "code",
        "colab": {}
      },
      "source": [
        "documents = [\n",
        "    {'type': 'passport', 'number': '2207 876234', 'name': 'Василий Гупкин'},\n",
        "    {'type': 'invoice', 'number': '11-2', 'name': 'Геннадий Покемонов'},\n",
        "    {'type': 'insurance', 'number': '10006', 'name': 'Аристарх Павлов'}\n",
        "]"
      ],
      "execution_count": 0,
      "outputs": []
    },
    {
      "cell_type": "markdown",
      "metadata": {
        "id": "OnKgnDTyViK1",
        "colab_type": "text"
      },
      "source": [
        "Перечень полок, на которых находятся документы хранится в следующем виде:"
      ]
    },
    {
      "cell_type": "code",
      "metadata": {
        "id": "CCUIm4tEViK3",
        "colab_type": "code",
        "colab": {}
      },
      "source": [
        "directories = {\n",
        "    '1': ['2207 876234', '11-2', '5455 028765'],\n",
        "    '2': ['10006', '5400 028765', '5455 002299'],\n",
        "    '3': []\n",
        "}"
      ],
      "execution_count": 0,
      "outputs": []
    },
    {
      "cell_type": "markdown",
      "metadata": {
        "id": "GvxmFWT4ViK8",
        "colab_type": "text"
      },
      "source": [
        "Необходимо реализовать пользовательские команды (внимание! это не название функций, которые должны быть выразительными, а команды, которые вводит пользователь, чтобы получить необходимый результат):\n",
        "  \n",
        "- p – people – команда, которая спросит номер документа и выведет имя человека, которому он принадлежит;  \n",
        "- s – shelf – команда, которая спросит номер документа и выведет номер полки, на которой он находится  \n",
        "Правильно обработайте ситуацию, когда пользователь будет вводить несуществующий документ.\n",
        "- l – list – команда, которая выведет список всех документов в формате   \n",
        "**passport \"2207 876234\" \"Василий Гупкин\"**  \n",
        "- as – add shelf – команда, которая спросит номер новой полки и добавит ее в перечень\n",
        "- d – delete – команда, которая спросит номер документа и удалит его из каталога и из перечня полок. Предусмотрите сценарий, когда пользователь вводит несуществующий документ;  \n",
        "- m – move – команда, которая спросит номер документа и целевую полку и переместит его с текущей полки на целевую. Корректно обработайте кейсы, когда пользователь пытается переместить несуществующий документ или переместить документ на несуществующую полку;  \n",
        "- a – add – команда, которая добавит новый документ в каталог и в перечень полок, спросив его номер, тип, имя владельца и номер полки, на котором он будет храниться."
      ]
    },
    {
      "cell_type": "code",
      "metadata": {
        "id": "4C8iulyVEIFC",
        "colab_type": "code",
        "colab": {
          "base_uri": "https://localhost:8080/",
          "height": 68
        },
        "outputId": "5b6f975e-f7ce-4aea-9af3-ecb5e2d48339"
      },
      "source": [
        "#  Необходимо реализовать команды, которые вводит пользователь, чтобы получить результат\n",
        "\n",
        "# ЛЁШИН ВАРИАНТ РЕШЕНИЯ:\n",
        "\n",
        "documents = [\n",
        "    {'type': 'passport', 'number': '2207 876234', 'name': 'Василий Гупкин'},\n",
        "    {'type': 'invoice', 'number': '11-2', 'name': 'Геннадий Покемонов'},\n",
        "    {'type': 'insurance', 'number': '10006', 'name': 'Аристарх Павлов'}\n",
        "]\n",
        "\n",
        "directories = {\n",
        "    '1': ['2207 876234', '11-2', '5455 028765'],\n",
        "    '2': ['10006', '5400 028765', '5455 002299'],\n",
        "    '3': []}\n",
        "    \n",
        "def people_(): #создаем функцию пипл\n",
        "    doc_num = input('Введите номер документа ') #переменная док_нам имеет значение функции ввода (ввести № документа)\n",
        "    if doc_num not in [y['number'] for y in documents]: #условие: если док_нам не находится в списке, где переменная у с индексом(номер) для у в переменной документс\n",
        "        print('Номер документа не существует в базе!') # вывести (№ док.не сущ.в базе)\n",
        "        return  #вернуть функцию\n",
        "    for x in documents: #создается цикл для х в переменной документс\n",
        "        if doc_num == x['number']: #условие: если переменная док_нам равна переменной х с индексом(номера)\n",
        "            print(f\"Имя {x['name']}\")#вывести Имя {переменная х с индексом (имя)}\n",
        "    return #вернуть функцию\n",
        "\n",
        "\n",
        "def shell_():#создаем функцию шэлл\n",
        "    doc_num = input('Введите номер документа ')#переменная док_нам яв-ся функцией ввода (ввести № док-та)\n",
        "    if doc_num not in [y['number'] for y in documents]:#условие: если док_нам не находится в списке, где переменная у с индексом(номер) для у в переменной документс\n",
        "        print('Номер документа не существует в базе!')#вывести (№ док-та не сущ-ет в базе!)\n",
        "        return #вернуть функцию\n",
        "    for x in directories: #создается цикл для перемнной Х в переменной дайректорис:\n",
        "        if doc_num in directories[x]:#условие: если док_нам в дайректорис с индексом Х\n",
        "            print(f'Полка номер {x}') #вывести (Полка № {x})\n",
        "    return #вернуть функцию\n",
        "\n",
        "\n",
        "def list_(): # создаем функцию лист_\n",
        "    for x in documents: # создаем цикл для перемнной х в документс:\n",
        "        x = list(x.values())# условие: переменной х присваивается значение функции лист, примененной к переменной х по значению.\n",
        "        print(f'{x[0]} \"{x[1]}\" \"{x[2]}\"') #вывести на экран переменную х с индексами 0, 1, 2\n",
        "    return #вернуть функцию\n",
        "                                    \n",
        "def add_shell(): # создаем функцию эдд_шэлл\n",
        "    shell_num = input('Введите новый номер полки ')# переменная шэлл_нам яв-ся функцией ввода (введите новый № полки)\n",
        "    if shell_num in directories.keys(): #условие: если переменная шэлл_нам находится в переменной дайректорис в ключах:    \n",
        "        print('Номер полки уже существует в базе!')# вывести (№ полки уже сущ-ет в базе!)\n",
        "        return #вернуть функцию\n",
        "    else: #в остальных случаях\n",
        "        directories[shell_num]=[] #перемнной дайректорис с индексом шэлл нам присваивается значение пустого списка\n",
        "    print(directories) #вывести дайректорис\n",
        "    return #вернуть функцию\n",
        "\n",
        "                  \n",
        "def delete_(): #создаем функцию дэлит\n",
        "    doc_num = input('Введите номер документа ')# переменной док_нам присвается значение функции ввода (введите № док-та)\n",
        "    if doc_num not in [y['number'] for y in documents]: #условие: если переменная док_нам не находится в списке, где переменная у с индексом(номер) для у в переменной документс\n",
        "        print('Номер документа не существует в базе!') #вывести (№ док-та не сущ-ет в базе!)\n",
        "        return # вернуть функцию\n",
        "    for x in documents:# создается цикл для переменной х в переменной документс:\n",
        "        if doc_num == x['number']: #условие: если переменная док_нам равна переменной Х с индексом номер\n",
        "            documents.remove(x) #к переменной документс применяется метод ремув - удаление х\n",
        "            print(f'Документ {doc_num} удален') #вывести: документ удален\n",
        "    print(documents) # вывести документс\n",
        "    return # вернуть функцию\n",
        "                  \n",
        "\n",
        "                  \n",
        "def move_(): #создается функция мув_\n",
        "    doc_num = input('Введите номер документа ') #перемнной док_нам присваивается значение функции ввода (введите № док-та)\n",
        "    if doc_num not in [y['number'] for y in documents]:#условие: если переменная док_нам не находится в списке, где переменная у с индексом(номер) для у в переменной документс\n",
        "        print('Номер документа не существует в базе!')# вывести: номер док-та не сущ-ет в базе\n",
        "        return #вернуть функцию\n",
        "    shell_num = input('Введите номер полки ')# переменной шэлл_нам присваивается значение функции ввода (введите № полки)\n",
        "    if shell_num not in directories.keys():# условие: если шэлл_намнаходится не в переменной дайректорис в ключах \n",
        "        print('Номер полки не существует в базе!') # вывести: номер полки не сущ-ет в базе!\n",
        "        return # вернуть функцию\n",
        "    else: # в остальных случаях\n",
        "        for i in directories.keys(): # создается цикл для переменной ай в переменной дайректорис в ключах\n",
        "            if doc_num in directories[i]:# условие: если док_нам находится в дайректорис с индексом ай\n",
        "                directories[i].remove(doc_num)# условие: к переменной дайректорис с индексом ай применяется метод ремув (удалить док_нам)\n",
        "                directories[shell_num].append(doc_num)# условие: к переменной дайректорис с индексом шэлл_нам применяется метод аппэнд (добавить переменную док_нам)\n",
        "                print(f'Документ {doc_num} перемещен с полки {i} на полку {shell_num}')# вывести на экран: документ перемещен с полки на полку\n",
        "                break # прервать цикл\n",
        "    return #вернуть функцию\n",
        "                  \n",
        "def add_(): # создается функция эдд_\n",
        "    doc_num = input('Введите номер документа ') # переменная док_нам является функцией ввода\n",
        "    if doc_num in [y['number'] for y in documents]:# условие: если док_нам находится в списке значений по ключу намбер в перемнной документс\n",
        "        print('Номер документа уже существует в базе!')# вывести: номер док-та не сущ-ет в базе!\n",
        "        return # вернуть функцию\n",
        "    doc_type = input('Введите тип документа ') # переменной док_тайп присваивается значение функции ввода (введите тип док-та)\n",
        "    name = input('Введите имя ')# переменной нэйм присваивается значение функции ввода (введите имя)\n",
        "    shell_num = input('Введите номер полки ')# переменной шэлл_нам присваивается значение функции ввода (введите номер полки)\n",
        "    if shell_num not in directories.keys():# условие: если переменная шэлл_нам находится не в ключах переменной дайректорис\n",
        "        directories[shell_num] = []# условие: переменной дайректорис с индексом шэлл_нам присваивается значение пустого списка\n",
        "    documents.append({'type': doc_type, 'number': doc_num, 'name': name})# к переменной документс применяется метод аппэнд (добавление переменных)\n",
        "    directories[shell_num].append(doc_num)# к переменной дайректорис с индексом шэлл_нам применяется метод аппэнд (добавление док_нам)\n",
        "    print(f'Документ {doc_type} номер {doc_num} на имя {name} добавлен на полку {shell_num}') # вывести: документ...\n",
        "    return # вернуть функцию\n",
        "                  \n",
        "                  \n",
        "command = input('Введите команду ') # переменной коммэнд присваивается значение функции ввода (введите команду)\n",
        "                  \n",
        "if command == 'p':# условие: если коммэнд равен р\n",
        "    people_()        # люди          \n",
        "elif command == 's':#  в остальных случаях если  коммэнд = s\n",
        "    shell_()      # шэлл            \n",
        "elif command == 'l':# если коммэнд = l\n",
        "    list_()        # лист\n",
        "elif command == 'as':# если коммэнд = as\n",
        "    add_shell()    # эдд_шэлл              \n",
        "elif command == 'd':# если коммэнд = d\n",
        "    delete_() # дэлит\n",
        "elif command == 'm': # если коммэнд = m\n",
        "    move_()     #    мув        \n",
        "elif command == 'a': # если коммэнд = а\n",
        "    add_() # эдд\n",
        "else: # в других случаях\n",
        "    print('Неверная команда!') # вывести: неверная команда! "
      ],
      "execution_count": 1,
      "outputs": [
        {
          "output_type": "stream",
          "text": [
            "Введите команду p\n",
            "Введите номер документа 11-2\n",
            "Имя Геннадий Покемонов\n"
          ],
          "name": "stdout"
        }
      ]
    }
  ]
}