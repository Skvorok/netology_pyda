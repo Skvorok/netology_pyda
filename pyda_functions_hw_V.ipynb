{
  "nbformat": 4,
  "nbformat_minor": 0,
  "metadata": {
    "kernelspec": {
      "display_name": "Python 3",
      "language": "python",
      "name": "python3"
    },
    "language_info": {
      "codemirror_mode": {
        "name": "ipython",
        "version": 3
      },
      "file_extension": ".py",
      "mimetype": "text/x-python",
      "name": "python",
      "nbconvert_exporter": "python",
      "pygments_lexer": "ipython3",
      "version": "3.7.4"
    },
    "colab": {
      "name": "pyda-functions-hw V.ipynb",
      "provenance": [],
      "collapsed_sections": [],
      "include_colab_link": true
    }
  },
  "cells": [
    {
      "cell_type": "markdown",
      "metadata": {
        "id": "view-in-github",
        "colab_type": "text"
      },
      "source": [
        "<a href=\"https://colab.research.google.com/github/Skvorok/netology_pyda/blob/master/pyda_functions_hw_V.ipynb\" target=\"_parent\"><img src=\"https://colab.research.google.com/assets/colab-badge.svg\" alt=\"Open In Colab\"/></a>"
      ]
    },
    {
      "cell_type": "markdown",
      "metadata": {
        "id": "pWzh9braViJ4",
        "colab_type": "text"
      },
      "source": [
        "## Задание 1"
      ]
    },
    {
      "cell_type": "markdown",
      "metadata": {
        "id": "tyKZkNINViJ9",
        "colab_type": "text"
      },
      "source": [
        "Дан список вида:"
      ]
    },
    {
      "cell_type": "code",
      "metadata": {
        "id": "_itpq0BQViJ_",
        "colab_type": "code",
        "colab": {}
      },
      "source": [
        "data = [\n",
        "    [13, 25, 23, 34],\n",
        "    [45, 32, 44, 47],\n",
        "    [12, 33, 23, 95],\n",
        "    [13, 53, 34, 35]\n",
        "]"
      ],
      "execution_count": 0,
      "outputs": []
    },
    {
      "cell_type": "markdown",
      "metadata": {
        "id": "kRDjey8vViKH",
        "colab_type": "text"
      },
      "source": [
        "Напишите функцию, которая возвращает сумму элементов на диагонали. Т. е. 13+32+23+35.  \n",
        "Список может быть любой длины, но всегда является \"квадратным\" (количество элементов во вложенных списках равно их количеству)."
      ]
    },
    {
      "cell_type": "code",
      "metadata": {
        "id": "K39-f5gTViKK",
        "colab_type": "code",
        "outputId": "39416179-afa2-4efc-9ec4-900502b4ac7b",
        "colab": {
          "base_uri": "https://localhost:8080/",
          "height": 34
        }
      },
      "source": [
        "def sum_of_diagonal(k):\n",
        "    num = []   \n",
        "    for p in range(len(k)):\n",
        "        num.append(k[p][p])\n",
        "    return sum(num)\n",
        "sum_of_diagonal(data)"
      ],
      "execution_count": 0,
      "outputs": [
        {
          "output_type": "execute_result",
          "data": {
            "text/plain": [
              "103"
            ]
          },
          "metadata": {
            "tags": []
          },
          "execution_count": 5
        }
      ]
    },
    {
      "cell_type": "markdown",
      "metadata": {
        "id": "Y-WhLXWeViKS",
        "colab_type": "text"
      },
      "source": [
        "## Задание 2"
      ]
    },
    {
      "cell_type": "markdown",
      "metadata": {
        "id": "-FqHtlzLViKU",
        "colab_type": "text"
      },
      "source": [
        "Напишите функцию, возвращающую сумму первых n чисел Фибоначчи (для этого вам может понадобится ознакомиться с рекурсией)."
      ]
    },
    {
      "cell_type": "code",
      "metadata": {
        "id": "9d3uva3QViKV",
        "colab_type": "code",
        "outputId": "2c318c49-dd82-420c-e5ae-894f155dfd34",
        "colab": {}
      },
      "source": [
        "# Числа Фибоначчи – это элементы числовой последовательности\n",
        "# 0, 1, 1, 2, 3, 5, 8, 13, 21, 34, 55, 89, 144, …, в которой каждое последующее число равно сумме двух предыдущих.\n",
        "\n",
        "def first_numbers_sum(n):\n",
        "    listt = [0,1]\n",
        "    num1 = 0\n",
        "    num2 = 1\n",
        "    for d in range(n - 2): \n",
        "        num3 = num1 + num2\n",
        "        listt.append(num3)\n",
        "        num1 = num2\n",
        "        num2 = num3\n",
        "    return sum(listt)\n",
        "\n",
        "first_numbers_sum(6)"
      ],
      "execution_count": 0,
      "outputs": [
        {
          "output_type": "execute_result",
          "data": {
            "text/plain": [
              "12"
            ]
          },
          "metadata": {
            "tags": []
          },
          "execution_count": 43
        }
      ]
    },
    {
      "cell_type": "markdown",
      "metadata": {
        "id": "FFPAWSuuViKd",
        "colab_type": "text"
      },
      "source": [
        "## Задание 3\n"
      ]
    },
    {
      "cell_type": "markdown",
      "metadata": {
        "id": "h8XcOw6kViKf",
        "colab_type": "text"
      },
      "source": [
        "Напишите функцию, преобразующую произвольный список вида ['2018-01-01', 'yandex', 'cpc', 100] (он может быть любой длины) в словарь {'2018-01-01': {'yandex': {'cpc': 100}}}"
      ]
    },
    {
      "cell_type": "code",
      "metadata": {
        "id": "FENdJB5sViKh",
        "colab_type": "code",
        "outputId": "4f296462-a196-4e25-9499-46abe7bcf671",
        "colab": {
          "base_uri": "https://localhost:8080/",
          "height": 34
        }
      },
      "source": [
        "# Написать функцию, которая список преобразует в словарь. \n",
        "source_list = ['2018-01-01', 'yandex', 'cpc', 100]\n",
        "\n",
        "def change_to_dict(source_list):\n",
        "  source_list.reverse()\n",
        "  k = source_list[0]\n",
        "  del(source_list[0])\n",
        "  for x in source_list:\n",
        "    k = {x:k}\n",
        "  return k\n",
        "\n",
        "change_to_dict(source_list)"
      ],
      "execution_count": 0,
      "outputs": [
        {
          "output_type": "execute_result",
          "data": {
            "text/plain": [
              "{'2018-01-01': {'yandex': {'cpc': 100}}}"
            ]
          },
          "metadata": {
            "tags": []
          },
          "execution_count": 48
        }
      ]
    },
    {
      "cell_type": "markdown",
      "metadata": {
        "id": "qAczNM5AViKt",
        "colab_type": "text"
      },
      "source": [
        "## Задание 4"
      ]
    },
    {
      "cell_type": "markdown",
      "metadata": {
        "id": "0FhsOnzqViKv",
        "colab_type": "text"
      },
      "source": [
        "Вы работаете секретарем и вам постоянно приходят различные документы. Вы должны быть очень внимательны, чтобы не потерять ни один документ. Каталог документов хранится в следующем виде:"
      ]
    },
    {
      "cell_type": "code",
      "metadata": {
        "id": "G1mhmJIdViKw",
        "colab_type": "code",
        "colab": {}
      },
      "source": [
        "documents = [\n",
        "    {'type': 'passport', 'number': '2207 876234', 'name': 'Василий Гупкин'},\n",
        "    {'type': 'invoice', 'number': '11-2', 'name': 'Геннадий Покемонов'},\n",
        "    {'type': 'insurance', 'number': '10006', 'name': 'Аристарх Павлов'}\n",
        "]"
      ],
      "execution_count": 0,
      "outputs": []
    },
    {
      "cell_type": "markdown",
      "metadata": {
        "id": "OnKgnDTyViK1",
        "colab_type": "text"
      },
      "source": [
        "Перечень полок, на которых находятся документы хранится в следующем виде:"
      ]
    },
    {
      "cell_type": "code",
      "metadata": {
        "id": "CCUIm4tEViK3",
        "colab_type": "code",
        "colab": {}
      },
      "source": [
        "directories = {\n",
        "    '1': ['2207 876234', '11-2', '5455 028765'],\n",
        "    '2': ['10006', '5400 028765', '5455 002299'],\n",
        "    '3': []\n",
        "}"
      ],
      "execution_count": 0,
      "outputs": []
    },
    {
      "cell_type": "markdown",
      "metadata": {
        "id": "GvxmFWT4ViK8",
        "colab_type": "text"
      },
      "source": [
        "Необходимо реализовать пользовательские команды (внимание! это не название функций, которые должны быть выразительными, а команды, которые вводит пользователь, чтобы получить необходимый результат):\n",
        "  \n",
        "- p – people – команда, которая спросит номер документа и выведет имя человека, которому он принадлежит;  \n",
        "- s – shelf – команда, которая спросит номер документа и выведет номер полки, на которой он находится  \n",
        "Правильно обработайте ситуацию, когда пользователь будет вводить несуществующий документ.\n",
        "- l – list – команда, которая выведет список всех документов в формате   \n",
        "**passport \"2207 876234\" \"Василий Гупкин\"**  \n",
        "- as – add shelf – команда, которая спросит номер новой полки и добавит ее в перечень\n",
        "- d – delete – команда, которая спросит номер документа и удалит его из каталога и из перечня полок. Предусмотрите сценарий, когда пользователь вводит несуществующий документ;  \n",
        "- m – move – команда, которая спросит номер документа и целевую полку и переместит его с текущей полки на целевую. Корректно обработайте кейсы, когда пользователь пытается переместить несуществующий документ или переместить документ на несуществующую полку;  \n",
        "- a – add – команда, которая добавит новый документ в каталог и в перечень полок, спросив его номер, тип, имя владельца и номер полки, на котором он будет храниться."
      ]
    },
    {
      "cell_type": "code",
      "metadata": {
        "id": "HOuo1RnMVCsC",
        "colab_type": "code",
        "colab": {
          "base_uri": "https://localhost:8080/",
          "height": 70
        },
        "outputId": "109dda5d-9fa0-4356-c2ff-7351e881af65"
      },
      "source": [
        "documents = [\n",
        "    {'type': 'passport', 'number': '2207 876234', 'name': 'Василий Гупкин'},\n",
        "    {'type': 'invoice', 'number': '11-2', 'name': 'Геннадий Покемонов'},\n",
        "    {'type': 'insurance', 'number': '10006', 'name': 'Аристарх Павлов'}\n",
        "]\n",
        "\n",
        "directories = {\n",
        "    '1': ['2207 876234', '11-2', '5455 028765'],\n",
        "    '2': ['10006', '5400 028765', '5455 002299'],\n",
        "    '3': []}\n",
        "    \n",
        "def people(): \n",
        "    number_doc = input('Введите номер документа ') \n",
        "    if number_doc not in [f['number'] for f in documents]:\n",
        "        print('Номер документа не существует в базе!') \n",
        "        return \n",
        "    for x in documents: \n",
        "        if number_doc == x['number']: \n",
        "            print(f\"Имя {x['name']}\")\n",
        "    return \n",
        "\n",
        "\n",
        "def shelf():\n",
        "    number_doc = input('Введите номер документа ')\n",
        "    if number_doc not in [f['number'] for f in documents]:\n",
        "        print('Номер документа не существует в базе!')\n",
        "    for x in directories: \n",
        "        if number_doc in directories[x]:\n",
        "            print(f'Полка номер {x}') \n",
        "    return \n",
        "\n",
        "\n",
        "def listt(): \n",
        "    for x in documents: \n",
        "        x = list(x.values())\n",
        "        print(f'{x[0]} \"{x[1]}\" \"{x[2]}\"') \n",
        "    return \n",
        "                                    \n",
        "def add_shelf(): \n",
        "    number_shelf = input('Введите новый номер полки ')\n",
        "    if number_shelf in directories.keys():  \n",
        "        print('Номер полки уже существует в базе!')\n",
        "        return \n",
        "    else: \n",
        "        directories[number_shelf] = [] \n",
        "    print(directories) \n",
        "    return \n",
        "\n",
        "                  \n",
        "def delete(): \n",
        "    number_doc = input('Введите номер документа ')\n",
        "    if number_doc not in [f['number'] for f in documents]: \n",
        "        print('Номер документа не существует в базе!') \n",
        "        return \n",
        "    for x in documents:\n",
        "        if number_doc == x['number']: \n",
        "            documents.remove(x)\n",
        "            print(f'Документ {number_doc} удален') \n",
        "    print(documents) \n",
        "    return \n",
        "                  \n",
        "\n",
        "                  \n",
        "def move(): \n",
        "    number_doc = input('Введите номер документа ')\n",
        "    if number_doc not in [f['number'] for f in documents]:\n",
        "        print('Номер документа не существует в базе!')\n",
        "        return \n",
        "    number_shelf = input('Введите номер полки ')\n",
        "    if number_shelf not in directories.keys():\n",
        "        print('Номер полки не существует в базе!') \n",
        "        return \n",
        "    else: \n",
        "        for i in directories.keys(): \n",
        "            if number_doc in directories[i]:\n",
        "                directories[i].remove(number_doc)\n",
        "                directories[number_shelf].append(number_doc)\n",
        "                print(f'Документ {number_doc} перемещен с полки {i} на полку {number_shelf}')\n",
        "                break \n",
        "    return \n",
        "                  \n",
        "def add(): \n",
        "    number_doc = input('Введите номер документа ') \n",
        "    if number_doc in [f['number'] for f in documents]:\n",
        "        print('Номер документа уже существует в базе!')\n",
        "        return \n",
        "    type_doc = input('Введите тип документа ') \n",
        "    name = input('Введите имя ')\n",
        "    number_shelf = input('Введите номер полки ')\n",
        "    if number_shelf not in directories.keys():\n",
        "        directories[number_shelf] = []\n",
        "    documents.append({'type': type_doc, 'number': number_doc, 'name': name})\n",
        "    directories[number_shelf].append(number_doc)\n",
        "    print(f'Документ {type_doc} номер {number_doc} на имя {name} добавлен на полку {number_shelf}') \n",
        "    return \n",
        "                  \n",
        "instruction = input('Введите команду ') \n",
        "                  \n",
        "if instruction == 'p':\n",
        "    people()               \n",
        "elif instruction == 's':\n",
        "    shelf()               \n",
        "elif instruction == 'l':\n",
        "    listt()       \n",
        "elif instruction == 'as':\n",
        "    add_shelf()               \n",
        "elif instruction == 'd':\n",
        "    delete() \n",
        "elif instruction == 'm': \n",
        "    move()          \n",
        "elif instruction == 'a':\n",
        "    add()\n",
        "else: \n",
        "    print('Неверная команда!') "
      ],
      "execution_count": 1,
      "outputs": [
        {
          "output_type": "stream",
          "text": [
            "Введите команду s\n",
            "Введите номер документа 10006\n",
            "Полка номер 2\n"
          ],
          "name": "stdout"
        }
      ]
    }
  ]
}