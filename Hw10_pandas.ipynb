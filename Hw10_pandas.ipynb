{
  "nbformat": 4,
  "nbformat_minor": 0,
  "metadata": {
    "kernelspec": {
      "display_name": "Python 3",
      "language": "python",
      "name": "python3"
    },
    "language_info": {
      "codemirror_mode": {
        "name": "ipython",
        "version": 3
      },
      "file_extension": ".py",
      "mimetype": "text/x-python",
      "name": "python",
      "nbconvert_exporter": "python",
      "pygments_lexer": "ipython3",
      "version": "3.7.4"
    },
    "colab": {
      "name": "Hw10-pandas.ipynb",
      "provenance": [],
      "include_colab_link": true
    }
  },
  "cells": [
    {
      "cell_type": "markdown",
      "metadata": {
        "id": "view-in-github",
        "colab_type": "text"
      },
      "source": [
        "<a href=\"https://colab.research.google.com/github/Skvorok/netology_pyda/blob/master/Hw10_pandas.ipynb\" target=\"_parent\"><img src=\"https://colab.research.google.com/assets/colab-badge.svg\" alt=\"Open In Colab\"/></a>"
      ]
    },
    {
      "cell_type": "markdown",
      "metadata": {
        "id": "3Vy3BcKlh7zD",
        "colab_type": "text"
      },
      "source": [
        "**Задание 1**\n",
        "\n",
        "Скачайте с сайта https://grouplens.org/datasets/movielens/ датасет любого размера. Определите какому фильму было выставлено больше всего оценок 5.0.\n"
      ]
    },
    {
      "cell_type": "code",
      "metadata": {
        "id": "WPlQ07oUh7zP",
        "colab_type": "code",
        "colab": {
          "base_uri": "https://localhost:8080/",
          "height": 89
        },
        "outputId": "4f77b7f9-412f-4fab-ef2c-660167b5f1b4"
      },
      "source": [
        "import platform\n",
        "if platform.system() == 'Linux':\n",
        "    trajectory = '/content/drive/My Drive/Colab Notebooks/ml-latest-small/'\n",
        "    from google.colab import drive\n",
        "    drive.mount('/content/drive')\n",
        "else:\n",
        "    trajectory = ''\n",
        "\n",
        "import pandas as pd"
      ],
      "execution_count": 12,
      "outputs": [
        {
          "output_type": "stream",
          "text": [
            "Drive already mounted at /content/drive; to attempt to forcibly remount, call drive.mount(\"/content/drive\", force_remount=True).\n"
          ],
          "name": "stdout"
        },
        {
          "output_type": "execute_result",
          "data": {
            "text/plain": [
              "318    153\n",
              "Name: movieId, dtype: int64"
            ]
          },
          "metadata": {
            "tags": []
          },
          "execution_count": 12
        }
      ]
    },
    {
      "cell_type": "code",
      "metadata": {
        "id": "sGORY0zXlxZM",
        "colab_type": "code",
        "colab": {
          "base_uri": "https://localhost:8080/",
          "height": 51
        },
        "outputId": "a0d1afb3-dd2a-43cf-91ad-0623ea24dd3c"
      },
      "source": [
        "file = pd.read_csv(trajectory+'ratings.csv')\n",
        "file[file.rating == 5].movieId.value_counts().head(1)"
      ],
      "execution_count": 35,
      "outputs": [
        {
          "output_type": "execute_result",
          "data": {
            "text/plain": [
              "318    153\n",
              "Name: movieId, dtype: int64"
            ]
          },
          "metadata": {
            "tags": []
          },
          "execution_count": 35
        }
      ]
    },
    {
      "cell_type": "markdown",
      "metadata": {
        "id": "ZiZDkBMph7zv",
        "colab_type": "text"
      },
      "source": [
        "**Задание 2**\n",
        "\n",
        "По данным файла power.csv посчитайте суммарное потребление стран Прибалтики (Латвия, Литва и Эстония) категорий 4, 12 и 21 за период с 2005 по 2010 года. Не учитывайте в расчетах отрицательные значения quantity.\n"
      ]
    },
    {
      "cell_type": "code",
      "metadata": {
        "id": "L1v6CPMCo4Ea",
        "colab_type": "code",
        "colab": {
          "base_uri": "https://localhost:8080/",
          "height": 54
        },
        "outputId": "a4e6342b-6979-43b7-a541-3bdd648dcc04"
      },
      "source": [
        "energy = pd.read_csv(trajectory+'power.csv')\n",
        "energy_1 = energy[(energy.country.isin(['Latvia','Estonia','Lithuania']))\n",
        " & (energy.category.isin([4, 12, 21]))\n",
        " & (energy.year.isin(range(2005,2011)))\n",
        " & (energy.quantity > 0)].quantity.sum()\n",
        "print(f'Суммарное потребление стран Прибалтики (Латвия, Литва и Эстония) категорий 4, 12 и 21 за период с 2005 по 2010 года равнo {power1}')"
      ],
      "execution_count": 32,
      "outputs": [
        {
          "output_type": "stream",
          "text": [
            "Суммарное потребление стран Прибалтики (Латвия, Литва и Эстония) категорий 4, 12 и 21 за период с 2005 по 2010 года равнo 240580.0\n"
          ],
          "name": "stdout"
        }
      ]
    },
    {
      "cell_type": "markdown",
      "metadata": {
        "id": "tPPNKiwGh70H",
        "colab_type": "text"
      },
      "source": [
        "**Задание 3**\n",
        "\n",
        "Выберите страницу любого сайта с табличными данными. Импортируйте таблицы в pandas dataframe.\n",
        "Примеры страниц (необязательно брать именно эти): \n",
        "https://fortrader.org/quotes\n",
        "https://www.finanz.ru/valyuty/v-realnom-vremeni\n"
      ]
    },
    {
      "cell_type": "code",
      "metadata": {
        "id": "H5aFmqoAh70M",
        "colab_type": "code",
        "outputId": "9f6f55c2-c3ab-47bc-ae17-2b27d9429a70",
        "colab": {
          "base_uri": "https://localhost:8080/",
          "height": 1000
        }
      },
      "source": [
        "website = pd.read_html('https://fortrader.org/quotes')\n",
        "\n",
        "for tab in website:\n",
        "    print(tab, '\\n\\n')"
      ],
      "execution_count": 38,
      "outputs": [
        {
          "output_type": "stream",
          "text": [
            "                           Название     Цена  ...  Изменение(%)  Обновлено\n",
            "0  EURRUB Курс евро к рублю сегодня  81.1523  ...       -4.7389        NaN\n",
            "1       USDRUB Курс рубля к доллару  71.8262  ...       -3.0040        NaN\n",
            "\n",
            "[2 rows x 5 columns] \n",
            "\n",
            "\n",
            "                           Название    Цена  Изменение  Изменение(%)  Обновлено\n",
            "0  Нефть (BRENT) Курс нефти сегодня  37.320      3.900        11.670        NaN\n",
            "1   Нефть (WTI) Цены на нефть (WTI)  34.400      1.980         6.110        NaN\n",
            "2          Сахар котировки на сахар  12.630     -0.060        -0.470        NaN\n",
            "3                   Газ Цена на газ   1.922      0.727        60.796        NaN \n",
            "\n",
            "\n",
            "                      Название       Цена   Изменение Изменение(%)  Обновлено\n",
            "0      Серебро Цена на серебро    16.9200       0.000        0.000        NaN\n",
            "1    Палладий Цена на Палладий  2309.5000      -89.50        -3.73        NaN\n",
            "2  Золото Цена золота на бирже  1652.6000      -14.20        -0.85        NaN\n",
            "3      Платина Цены на платину   866.5000        -6.0         -0.7        NaN\n",
            "4      Медь Цена меди на бирже     2.5245  нет данных   нет данных        NaN \n",
            "\n",
            "\n",
            "                                        Название  ...  Обновлено\n",
            "0                                  ВТБ Акции ВТБ  ...        NaN\n",
            "1                         Газпром Акции газпрома  ...        NaN\n",
            "2                            Лукойл Акции Лукойл  ...        NaN\n",
            "3                        Роснефть Акции Роснефти  ...        NaN\n",
            "4                       Сбербанк Акции Сбербанка  ...        NaN\n",
            "5           Сургутнефтегаз Акции Сургутнефтегаза  ...        NaN\n",
            "6                      Норникель Акции Норникель  ...        NaN\n",
            "7                       Аэрофлот Акции Аерофлота  ...        NaN\n",
            "8                    Северсталь Акции Северсталь  ...        NaN\n",
            "9                    Транснефть Акции Транснефть  ...        NaN\n",
            "10             Ростелеком Курс акций ростелекома  ...        NaN\n",
            "11                    Алроса Акции АЛРОСА (ALRS)  ...        NaN\n",
            "12                      РУСАЛ Акции РУСАЛ (RUAL)  ...        NaN\n",
            "13                        НМЛК Акции НЛМК (NLMK)  ...        NaN\n",
            "14                    Магнит Акции Магнит (MGNT)  ...        NaN\n",
            "15                  М.видео Акции М.видео (MVID)  ...        NaN\n",
            "16    Газпром нефть Акции \"Газпром нефть\" (SIBN)  ...        NaN\n",
            "17                        НМТП Акции НМТП (NMTP)  ...        NaN\n",
            "18            Полиметалл Акции Полиметалл (POLY)  ...        NaN\n",
            "19        Полюс Золото Акции Полюс Золото (PLZL)  ...        NaN\n",
            "20                  НОВАТЭК Акции НОВАТЭК (NVTK)  ...        NaN\n",
            "21                РусГидро Акции РусГидро (HYDR)  ...        NaN\n",
            "22                Татнефть Акции Татнефть (TATN)  ...        NaN\n",
            "23        АФК Система Акции АФК \"Система\" (AFKS)  ...        NaN\n",
            "24                                 МТС Акции МТС  ...        NaN\n",
            "25                Башнефть Акции Башнефть (BANE)  ...        NaN\n",
            "26                    Яндекс Акции Яндекс (YNDX)  ...        NaN\n",
            "27  X5 Retail Group Акции X5 Retail Group (FIVE)  ...        NaN\n",
            "\n",
            "[28 rows x 5 columns] \n",
            "\n",
            "\n",
            "                            Название    Цена  ...  Изменение(%)  Обновлено\n",
            "0               Yandex Акции яндекса   36.36  ...          6.19        NaN\n",
            "1          Microsoft Microsoft Corp.  155.74  ...          3.43        NaN\n",
            "2                  APPLE Акции APPLE  275.63  ...          3.55        NaN\n",
            "3                Toyota Акции Тойоты  120.94  ...         -1.51        NaN\n",
            "4   Volkswagen Курс акций Volkswagen  132.06  ...         -1.39        NaN\n",
            "5       Facebook Цена акций Facebook  173.46  ...          2.34        NaN\n",
            "6          Tesla Цены на акции Тесла  628.24  ...          3.33        NaN\n",
            "7          Twiter Цена акций твитера   33.68  ...          6.85        NaN\n",
            "8  Hasbro Цена на акции Hasbro, Inc.   66.37  ...          0.21        NaN\n",
            "\n",
            "[9 rows x 5 columns] \n",
            "\n",
            "\n",
            "                                            Название  ...  Обновлено\n",
            "0                         EURUSD Курс евро к доллару  ...        NaN\n",
            "1   AUDUSD Курс австралийского доллара к доллару сша  ...        NaN\n",
            "2         AUDCAD Australian Dollar / Canadian Dollar  ...        NaN\n",
            "3                          EURCHF Euro / Swiss Franc  ...        NaN\n",
            "4                  EURGBP Euro / Great Britain Pound  ...        NaN\n",
            "5                         EURJPY Euro / Japanese Yen  ...        NaN\n",
            "6          GBPJPY Great Britain Pound / Japanese Yen  ...        NaN\n",
            "7              NZDUSD New Zealand Dollar / US Dollar  ...        NaN\n",
            "8                        GBPUSD Курс фунта к доллару  ...        NaN\n",
            "9       USDCAD Курс канадского доллара к доллару сша  ...        NaN\n",
            "10                    USDCHF US Dollar / Swiss Franc  ...        NaN\n",
            "11         USDCNH Курс китайского юаня к доллару США  ...        NaN\n",
            "12                        USDJPY Курс йены к доллару  ...        NaN\n",
            "\n",
            "[13 rows x 5 columns] \n",
            "\n",
            "\n",
            "                                             Название  ...  Обновлено\n",
            "0                               Bitcoin Курс биткоина  ...        NaN\n",
            "1          Litecoin Курс лайткоин к доллару (LTC/USD)  ...        NaN\n",
            "2   BitcoinCash Курс Биткоин кеш к доллару США (BC...  ...        NaN\n",
            "3                                           Dash Dash  ...        NaN\n",
            "4                                       Ripple Ripple  ...        NaN\n",
            "5                                   Ethereum Ethereum  ...        NaN\n",
            "6                                   EmerCoin EmerCoin  ...        NaN\n",
            "7                                   NameCoin NameCoin  ...        NaN\n",
            "8                                   PeerCoin PeerCoin  ...        NaN\n",
            "9                             BTCRUB биткоин в рублях  ...        NaN\n",
            "10                              BTCEUR биткоин в евро  ...        NaN\n",
            "11                                        Zcash (ZEC)  ...        NaN\n",
            "12                                          NEO (NEO)  ...        NaN\n",
            "13                                          EOS (EOS)  ...        NaN\n",
            "14                                         TRON (TRX)  ...        NaN\n",
            "15                                             Monero  ...        NaN\n",
            "16                                            Cardano  ...        NaN\n",
            "17                                               IOTA  ...        NaN\n",
            "18                       ETC/USD эфириум классик, ETC  ...        NaN\n",
            "\n",
            "[19 rows x 5 columns] \n",
            "\n",
            "\n",
            "                                   Название       Цена  ... Изменение(%) Обновлено\n",
            "0   Фьючерс РТС Курс фьючерса на индекс РТС  118130.00  ...   нет данных       NaN\n",
            "1                      РТС Курс индекса РТС    1094.18  ...       -13.02       NaN\n",
            "2                                     DAX30   11541.90  ...         0.00       NaN\n",
            "3                       Индекс Dow 30 (DJI)   24249.00  ...           +2       NaN\n",
            "4                                      FTSE    7137.70  ...        +19.6       NaN\n",
            "5                                    CAC 40    4708.80  ...         +0.5       NaN\n",
            "6                                Nasdaq 100    8115.00  ...        +2.14       NaN\n",
            "7                              Russell 2000    1314.70  ...         +0.1       NaN\n",
            "8                                   S&P 500    2794.00  ...    +2 918.58       NaN\n",
            "9                                   IBEX 35    7560.00  ...         -1.3       NaN\n",
            "10                               Nikkei 225   19503.00  ...           +1       NaN\n",
            "11                            Euro Stoxx 50    2959.10  ...         +0.6       NaN\n",
            "12                              S&P/ASX 200    5891.40  ...   нет данных       NaN\n",
            "13                                      MIB   17950.00  ...   нет данных       NaN\n",
            "\n",
            "[14 rows x 5 columns] \n",
            "\n",
            "\n"
          ],
          "name": "stdout"
        }
      ]
    }
  ]
}