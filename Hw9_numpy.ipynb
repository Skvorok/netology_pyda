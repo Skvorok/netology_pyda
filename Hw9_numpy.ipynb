{
  "nbformat": 4,
  "nbformat_minor": 0,
  "metadata": {
    "kernelspec": {
      "display_name": "Python 3",
      "language": "python",
      "name": "python3"
    },
    "language_info": {
      "codemirror_mode": {
        "name": "ipython",
        "version": 3
      },
      "file_extension": ".py",
      "mimetype": "text/x-python",
      "name": "python",
      "nbconvert_exporter": "python",
      "pygments_lexer": "ipython3",
      "version": "3.7.4"
    },
    "colab": {
      "name": " Hw9-numpy.ipynb",
      "provenance": [],
      "collapsed_sections": [],
      "include_colab_link": true
    }
  },
  "cells": [
    {
      "cell_type": "markdown",
      "metadata": {
        "id": "view-in-github",
        "colab_type": "text"
      },
      "source": [
        "<a href=\"https://colab.research.google.com/github/Skvorok/netology_pyda/blob/master/Hw9_numpy.ipynb\" target=\"_parent\"><img src=\"https://colab.research.google.com/assets/colab-badge.svg\" alt=\"Open In Colab\"/></a>"
      ]
    },
    {
      "cell_type": "markdown",
      "metadata": {
        "id": "FF_lwwrJOje6",
        "colab_type": "text"
      },
      "source": [
        "Домашнее задание"
      ]
    },
    {
      "cell_type": "markdown",
      "metadata": {
        "id": "6ThH8GLyOjfB",
        "colab_type": "text"
      },
      "source": [
        "Задание 1\n",
        "Создайте numpy array с элементами от числа N до 0 \n",
        "(например, для N = 10 это будет array([9, 8, 7, 6, 5, 4, 3, 2, 1, 0]))."
      ]
    },
    {
      "cell_type": "code",
      "metadata": {
        "id": "E8ySeUDJOjfF",
        "colab_type": "code",
        "outputId": "0146c4af-f8ec-47b1-e7af-f8262fafbb1a",
        "colab": {
          "base_uri": "https://localhost:8080/",
          "height": 34
        }
      },
      "source": [
        "import numpy as np\n",
        "N = 10\n",
        "variable = np.array(N)\n",
        "variable_1 = list(reversed(range(N)))\n",
        "np.array(variable_1)"
      ],
      "execution_count": 3,
      "outputs": [
        {
          "output_type": "execute_result",
          "data": {
            "text/plain": [
              "array([9, 8, 7, 6, 5, 4, 3, 2, 1, 0])"
            ]
          },
          "metadata": {
            "tags": []
          },
          "execution_count": 3
        }
      ]
    },
    {
      "cell_type": "markdown",
      "metadata": {
        "id": "9pdPueUHOjfW",
        "colab_type": "text"
      },
      "source": [
        "Задание 2\n",
        "Создайте диагональную матрицу с элементами от N до 0. Посчитайте сумму ее значений на диагонали."
      ]
    },
    {
      "cell_type": "code",
      "metadata": {
        "id": "kyO3X44xOjfY",
        "colab_type": "code",
        "outputId": "c7680c97-4bfd-41bc-8cd2-4a2880ef4de4",
        "colab": {
          "base_uri": "https://localhost:8080/",
          "height": 207
        }
      },
      "source": [
        "variable = np.diag(list(reversed(range(N))))\n",
        "print(variable)\n",
        "print(f'Сумма диагонали: {np.trace(variable)}')\n"
      ],
      "execution_count": 11,
      "outputs": [
        {
          "output_type": "stream",
          "text": [
            "[[9 0 0 0 0 0 0 0 0 0]\n",
            " [0 8 0 0 0 0 0 0 0 0]\n",
            " [0 0 7 0 0 0 0 0 0 0]\n",
            " [0 0 0 6 0 0 0 0 0 0]\n",
            " [0 0 0 0 5 0 0 0 0 0]\n",
            " [0 0 0 0 0 4 0 0 0 0]\n",
            " [0 0 0 0 0 0 3 0 0 0]\n",
            " [0 0 0 0 0 0 0 2 0 0]\n",
            " [0 0 0 0 0 0 0 0 1 0]\n",
            " [0 0 0 0 0 0 0 0 0 0]]\n",
            "Сумма диагонали: 45\n"
          ],
          "name": "stdout"
        }
      ]
    },
    {
      "cell_type": "markdown",
      "metadata": {
        "id": "42po4yoaOjfk",
        "colab_type": "text"
      },
      "source": [
        "Задание 3\n",
        "Решите систему уравнений:\n",
        "\n",
        "4x + 2y + z = 4\n",
        "\n",
        "x + 3y = 12\n",
        "\n",
        "5y + 4z = -3"
      ]
    },
    {
      "cell_type": "code",
      "metadata": {
        "id": "G9B-OhxWOjfn",
        "colab_type": "code",
        "outputId": "b457e695-4e7d-48a0-dcf9-92aeb704bc8d",
        "colab": {
          "base_uri": "https://localhost:8080/",
          "height": 34
        }
      },
      "source": [
        "from scipy import linalg\n",
        "a = np.array([[4,2,1],\n",
        "              [1,3,0],\n",
        "              [0,5,4]])\n",
        "b = np.array([4,12,-3])\n",
        "v = linalg.solve(a,b)\n",
        "print(f'x = {v[0]}, y = {v[1]}, z = {v[2]}')"
      ],
      "execution_count": 13,
      "outputs": [
        {
          "output_type": "stream",
          "text": [
            "x = 0.4666666666666668, y = 3.844444444444444, z = -5.555555555555555\n"
          ],
          "name": "stdout"
        }
      ]
    }
  ]
}