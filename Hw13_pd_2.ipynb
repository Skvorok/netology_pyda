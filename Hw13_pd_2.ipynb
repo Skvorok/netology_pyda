{
  "nbformat": 4,
  "nbformat_minor": 0,
  "metadata": {
    "kernelspec": {
      "display_name": "Python 3",
      "language": "python",
      "name": "python3"
    },
    "language_info": {
      "codemirror_mode": {
        "name": "ipython",
        "version": 3
      },
      "file_extension": ".py",
      "mimetype": "text/x-python",
      "name": "python",
      "nbconvert_exporter": "python",
      "pygments_lexer": "ipython3",
      "version": "3.7.4"
    },
    "colab": {
      "name": "Hw13_pd/2.ipynb",
      "provenance": [],
      "collapsed_sections": [],
      "include_colab_link": true
    }
  },
  "cells": [
    {
      "cell_type": "markdown",
      "metadata": {
        "id": "view-in-github",
        "colab_type": "text"
      },
      "source": [
        "<a href=\"https://colab.research.google.com/github/Skvorok/netology_pyda/blob/master/Hw13_pd_2.ipynb\" target=\"_parent\"><img src=\"https://colab.research.google.com/assets/colab-badge.svg\" alt=\"Open In Colab\"/></a>"
      ]
    },
    {
      "cell_type": "markdown",
      "metadata": {
        "id": "68PQq23Ncn0h",
        "colab_type": "text"
      },
      "source": [
        "**Задание 1**\n",
        "\n",
        "Используйте файл с оценками фильмов ml-latest-small/ratings.csv. Посчитайте среднее время жизни пользователей, которые выставили более 100 оценок. Под временем жизни понимается разница между максимальным и минимальным значением столбца timestamp для данного значения userId.\n"
      ]
    },
    {
      "cell_type": "code",
      "metadata": {
        "id": "Um9dPbfEfpEF",
        "colab_type": "code",
        "outputId": "8ec215b1-ab0a-4969-da4f-7ac5aee9b509",
        "colab": {
          "base_uri": "https://localhost:8080/",
          "height": 125
        }
      },
      "source": [
        "import platform\n",
        "if platform.system() == 'Linux':\n",
        "  from google.colab import drive\n",
        "  drive.mount('/content/drive')\n",
        "  trajectory = '/content/drive/My Drive/Colab Notebooks/ml-latest-small/'\n",
        "else:\n",
        "  trajectory = ''"
      ],
      "execution_count": 0,
      "outputs": [
        {
          "output_type": "stream",
          "text": [
            "Go to this URL in a browser: https://accounts.google.com/o/oauth2/auth?client_id=947318989803-6bn6qk8qdgf4n4g3pfee6491hc0brc4i.apps.googleusercontent.com&redirect_uri=urn%3aietf%3awg%3aoauth%3a2.0%3aoob&response_type=code&scope=email%20https%3a%2f%2fwww.googleapis.com%2fauth%2fdocs.test%20https%3a%2f%2fwww.googleapis.com%2fauth%2fdrive%20https%3a%2f%2fwww.googleapis.com%2fauth%2fdrive.photos.readonly%20https%3a%2f%2fwww.googleapis.com%2fauth%2fpeopleapi.readonly\n",
            "\n",
            "Enter your authorization code:\n",
            "··········\n",
            "Mounted at /content/drive\n"
          ],
          "name": "stdout"
        }
      ]
    },
    {
      "cell_type": "code",
      "metadata": {
        "id": "0OcZPtYtcn0n",
        "colab_type": "code",
        "colab": {}
      },
      "source": [
        "import pandas as pd\n",
        "import datetime"
      ],
      "execution_count": 0,
      "outputs": []
    },
    {
      "cell_type": "code",
      "metadata": {
        "id": "NOKVfEAZcn1-",
        "colab_type": "code",
        "outputId": "3e829cd0-7768-4642-fd02-4092ec49baea",
        "colab": {
          "base_uri": "https://localhost:8080/",
          "height": 34
        }
      },
      "source": [
        "rating = pd.read_csv(trajectory+'ratings.csv')\n",
        "x = 100    #количество оценок\n",
        "rating['date'] = rating.timestamp.apply(lambda x: pd.Timestamp(x, unit = 's'))\n",
        "middle = rating.groupby('userId')\n",
        "rating_count = middle.count().join(middle.min().date, rsuffix = '_min').join(middle.max().date, rsuffix = '_max')\n",
        "rating_count['difference'] = rating_count.date_max-rating_count.date_min\n",
        "rating_count[middle.rating.count() > x].difference.mean()\n",
        "print(f'Среднее время жизни пользователей, которые выставили более 100 оценок - {rating_count[middle.rating.count() > x].difference.mean()}')\n"
      ],
      "execution_count": 0,
      "outputs": [
        {
          "output_type": "stream",
          "text": [
            "Среднее время жизни пользователей, которые выставили более 100 оценок - 517 days 17:22:47.734693\n"
          ],
          "name": "stdout"
        }
      ]
    },
    {
      "cell_type": "markdown",
      "metadata": {
        "id": "M_UxYToFcn3q",
        "colab_type": "text"
      },
      "source": [
        "\n",
        "\n",
        "**Задание 2**\n",
        "\n",
        "Дана статистика услуг перевозок клиентов компании по типам (см. файл с кодом занятия). Необходимо сформировать две таблицы:\n",
        "таблицу с тремя типами выручки для каждого client_id без указания адреса клиента\n",
        "аналогичную таблицу по типам выручки с указанием адреса клиента\n",
        "Обратите внимание, что в процессе объединения таблиц данные не должны теряться.\n",
        "\n"
      ]
    },
    {
      "cell_type": "code",
      "metadata": {
        "id": "00mzskVycn3t",
        "colab_type": "code",
        "colab": {}
      },
      "source": [
        "# Дана статистика услуг перевозок клиентов компании по типам:\n",
        "# 1)rzd - железнодорожные перевозки\n",
        "# 2)auto - автомобильные перевозки\n",
        "# 3)air - воздушные перевозки\n",
        "# 4)client_base - адреса клиентов"
      ],
      "execution_count": 0,
      "outputs": []
    },
    {
      "cell_type": "code",
      "metadata": {
        "id": "Nikv-nZRcn36",
        "colab_type": "code",
        "outputId": "cc2373ef-e505-4ad7-a341-a837de4590ad",
        "colab": {
          "base_uri": "https://localhost:8080/",
          "height": 369
        }
      },
      "source": [
        "rzd = pd.DataFrame({'client_id': [111, 112, 113, 114, 115],\n",
        "                    'rzd_revenue': [1093, 2810, 10283, 5774, 981]})\n",
        "\n",
        "auto = pd.DataFrame({'client_id': [113, 114, 115, 116, 117],\n",
        "                     'auto_revenue': [57483, 83, 912, 4834, 98]})\n",
        "\n",
        "air = pd.DataFrame({'client_id': [115, 116, 117, 118],\n",
        "                    'air_revenue': [81, 4, 13, 173]})\n",
        "\n",
        "client_base = pd.DataFrame({'client_id': [111, 112, 113, 114, 115, 116, 117, 118],\n",
        "                            'address': ['Комсомольская 4', 'Энтузиастов 8а', 'Левобережная 1а', 'Мира 14', 'ЗЖБИиДК 1', \n",
        "                                        'Строителей 18', 'Панфиловская 33', 'Мастеркова 4']})\n",
        "\n",
        "first_table = rzd.merge(auto, how = 'outer').merge(air, how = 'outer')\n",
        "second_table = first_table.merge(client_base, how = 'outer')\n",
        "\n",
        "print(first_table, '\\n\\n\\n', second_table)\n"
      ],
      "execution_count": 0,
      "outputs": [
        {
          "output_type": "stream",
          "text": [
            "   client_id  rzd_revenue  auto_revenue  air_revenue\n",
            "0        111       1093.0           NaN          NaN\n",
            "1        112       2810.0           NaN          NaN\n",
            "2        113      10283.0       57483.0          NaN\n",
            "3        114       5774.0          83.0          NaN\n",
            "4        115        981.0         912.0         81.0\n",
            "5        116          NaN        4834.0          4.0\n",
            "6        117          NaN          98.0         13.0\n",
            "7        118          NaN           NaN        173.0 \n",
            "\n",
            "\n",
            "    client_id  rzd_revenue  auto_revenue  air_revenue          address\n",
            "0        111       1093.0           NaN          NaN  Комсомольская 4\n",
            "1        112       2810.0           NaN          NaN   Энтузиастов 8а\n",
            "2        113      10283.0       57483.0          NaN  Левобережная 1а\n",
            "3        114       5774.0          83.0          NaN          Мира 14\n",
            "4        115        981.0         912.0         81.0        ЗЖБИиДК 1\n",
            "5        116          NaN        4834.0          4.0    Строителей 18\n",
            "6        117          NaN          98.0         13.0  Панфиловская 33\n",
            "7        118          NaN           NaN        173.0     Мастеркова 4\n"
          ],
          "name": "stdout"
        }
      ]
    },
    {
      "cell_type": "markdown",
      "metadata": {
        "id": "UyrDdcjqcn4C",
        "colab_type": "text"
      },
      "source": [
        "**Задание 3**\n",
        "\n",
        "В задаче сквозной аналитики вам предоставили данные по местоположению пользователей. Т. е. для каждого user_id известна последовательность координат (широта/долгота), когда они требовались приложению для полноценной работы. Как бы вы добавили эти сведения в таблицу визитов и покупок? Для составления ответа можно использовать вопросы:\n",
        "У каждого пользователя известен набор координат. А для связывания с визитом или фактом покупки скорее всего потребуется одно-два числа. Как их получить?\n",
        "Наборы координат одного и того же пользователя могут быть значительно удалены друг от друга. Как это отразится на вопросе расчетах пункта 1?\n",
        "Какие дополнительные признаки можно получить из координат? Ведь это просто числа, которые сами по себе мало что дают."
      ]
    },
    {
      "cell_type": "markdown",
      "metadata": {
        "id": "-N-UeHT63wRI",
        "colab_type": "text"
      },
      "source": [
        "\n",
        "\n",
        "*   Вводные данные: user_id и его координаты (широта/долгота).\n",
        "*   Для добавления координатных сведений user_id в таблицу \"Визиты и покупки\" возможно было бы применить функцию merge (склеивание таблиц: таблица 1 - это данные о координатах юзеров, таблица 2 - это числовые значения визитов и покупок юзеров). \n",
        "*   Т.к.набор координат представляет собой пару чисел, стоит подумать как эту пару конвертировать в одно число. Для решения этого вопроса, можно представить координаты, как географическую конкретную локацию в виде числа, символизирующего город, регион, область, населенный пункт и т.д.\n",
        "*   \n",
        "Если возникает ситуация, когда набор координат одного и того же пользователя удалены друг от друга, то в сведениях о визитах и покупках будут указываться разные данные. Например, разная геолокация одного пользователя может влиять на параметр визита (или его отсутствия), но не повлиять на покупку (она может совершится). \n",
        "*   Из координат можно получить дополнительные сведения, если есть на то поставленная задача. Например, зная точное место георасположения пользователя, можно выяснить информацию о его вероятных ресурсных возможностях: живя в мегаполисе, ресурсов (финансовых) больше для совершения той или иной покупки, нежели живя в провинции. Здесь важно понимать целевое направление приложения и исходить из точных данных. \n",
        "\n"
      ]
    }
  ]
}