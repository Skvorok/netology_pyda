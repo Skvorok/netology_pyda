{
  "nbformat": 4,
  "nbformat_minor": 0,
  "metadata": {
    "kernelspec": {
      "name": "python3",
      "display_name": "Python 3"
    },
    "language_info": {
      "codemirror_mode": {
        "name": "ipython",
        "version": 3
      },
      "file_extension": ".py",
      "mimetype": "text/x-python",
      "name": "python",
      "nbconvert_exporter": "python",
      "pygments_lexer": "ipython3",
      "version": "3.7.4"
    },
    "colab": {
      "name": "Hw12_pd/1.ipynb",
      "provenance": [],
      "collapsed_sections": [],
      "include_colab_link": true
    }
  },
  "cells": [
    {
      "cell_type": "markdown",
      "metadata": {
        "id": "view-in-github",
        "colab_type": "text"
      },
      "source": [
        "<a href=\"https://colab.research.google.com/github/Skvorok/netology_pyda/blob/master/Hw12_pd_1.ipynb\" target=\"_parent\"><img src=\"https://colab.research.google.com/assets/colab-badge.svg\" alt=\"Open In Colab\"/></a>"
      ]
    },
    {
      "cell_type": "markdown",
      "metadata": {
        "id": "Zuh1ehSwGnDz",
        "colab_type": "text"
      },
      "source": [
        "**Задание 1**\n",
        "\n",
        "Для датафрейма log из материалов занятия создайте столбец source_type по следующим правилам:\n",
        "- если источник traffic_source равен yandex или google, то в source_type ставится organic\n",
        "- для источников paid и email из России - ставим ad\n",
        "- для источников paid и email не из России - ставим other\n",
        "- все остальные варианты берем из traffic_source без изменений"
      ]
    },
    {
      "cell_type": "code",
      "metadata": {
        "id": "dDD6PwI6GnD7",
        "colab_type": "code",
        "colab": {
          "base_uri": "https://localhost:8080/",
          "height": 54
        },
        "outputId": "ba819d27-dd0c-4837-e29e-8ab9e98e8154"
      },
      "source": [
        "import platform\n",
        "if platform.system() == 'Linux':\n",
        "  from google.colab import drive\n",
        "  drive.mount('/content/drive')\n",
        "  trajectory = '/content/drive/My Drive/Colab Notebooks/ml-latest-small/'\n",
        "else:\n",
        "  trajectory = ''\n",
        "\n",
        "import pandas as pd"
      ],
      "execution_count": 2,
      "outputs": [
        {
          "output_type": "stream",
          "text": [
            "Drive already mounted at /content/drive; to attempt to forcibly remount, call drive.mount(\"/content/drive\", force_remount=True).\n"
          ],
          "name": "stdout"
        }
      ]
    },
    {
      "cell_type": "code",
      "metadata": {
        "id": "5E_YfiFoGnEL",
        "colab_type": "code",
        "outputId": "1e087d96-702a-4469-86db-a52f85df746b",
        "colab": {
          "base_uri": "https://localhost:8080/",
          "height": 375
        }
      },
      "source": [
        "log = pd.read_csv(trajectory+'visit_log___.csv', sep = ';')\n",
        "log.loc[((log.traffic_source == 'yandex') | (log.traffic_source == 'google')), 'source_type'] = 'organic'\n",
        "\n",
        "log.loc[(((log.traffic_source == 'paid')|(log.traffic_source == 'email'))\n",
        "            & (log.region == 'Russia')), 'source_type'] = 'ad'\n",
        "\n",
        "log.loc[(((log.traffic_source == 'paid')|(log.traffic_source == 'email'))\n",
        "            & (log.region != 'Russia')), 'source_type'] = 'other'\n",
        "\n",
        "log.head(10)"
      ],
      "execution_count": 3,
      "outputs": [
        {
          "output_type": "execute_result",
          "data": {
            "text/html": [
              "<div>\n",
              "<style scoped>\n",
              "    .dataframe tbody tr th:only-of-type {\n",
              "        vertical-align: middle;\n",
              "    }\n",
              "\n",
              "    .dataframe tbody tr th {\n",
              "        vertical-align: top;\n",
              "    }\n",
              "\n",
              "    .dataframe thead th {\n",
              "        text-align: right;\n",
              "    }\n",
              "</style>\n",
              "<table border=\"1\" class=\"dataframe\">\n",
              "  <thead>\n",
              "    <tr style=\"text-align: right;\">\n",
              "      <th></th>\n",
              "      <th>timestamp</th>\n",
              "      <th>visit_id</th>\n",
              "      <th>url</th>\n",
              "      <th>region</th>\n",
              "      <th>user_id</th>\n",
              "      <th>traffic_source</th>\n",
              "      <th>source_type</th>\n",
              "    </tr>\n",
              "  </thead>\n",
              "  <tbody>\n",
              "    <tr>\n",
              "      <th>0</th>\n",
              "      <td>1549980692</td>\n",
              "      <td>e3b0c44298</td>\n",
              "      <td>https://host.ru/3c19b4ef7371864fa3</td>\n",
              "      <td>Russia</td>\n",
              "      <td>b1613cc09f</td>\n",
              "      <td>yandex</td>\n",
              "      <td>organic</td>\n",
              "    </tr>\n",
              "    <tr>\n",
              "      <th>1</th>\n",
              "      <td>1549980704</td>\n",
              "      <td>6e340b9cff</td>\n",
              "      <td>https://host.ru/c8d9213a31839f9a3a</td>\n",
              "      <td>Russia</td>\n",
              "      <td>4c3ec14bee</td>\n",
              "      <td>direct</td>\n",
              "      <td>NaN</td>\n",
              "    </tr>\n",
              "    <tr>\n",
              "      <th>2</th>\n",
              "      <td>1549980715</td>\n",
              "      <td>96a296d224</td>\n",
              "      <td>https://host.ru/b8b58337d272ee7b15</td>\n",
              "      <td>Russia</td>\n",
              "      <td>a8c40697fb</td>\n",
              "      <td>yandex</td>\n",
              "      <td>organic</td>\n",
              "    </tr>\n",
              "    <tr>\n",
              "      <th>3</th>\n",
              "      <td>1549980725</td>\n",
              "      <td>709e80c884</td>\n",
              "      <td>https://host.ru/b8b58337d272ee7b15</td>\n",
              "      <td>Russia</td>\n",
              "      <td>521ac1d6a0</td>\n",
              "      <td>yandex</td>\n",
              "      <td>organic</td>\n",
              "    </tr>\n",
              "    <tr>\n",
              "      <th>4</th>\n",
              "      <td>1549980736</td>\n",
              "      <td>df3f619804</td>\n",
              "      <td>https://host.ru/b8b58337d272ee7b15</td>\n",
              "      <td>Russia</td>\n",
              "      <td>d7323c571c</td>\n",
              "      <td>yandex</td>\n",
              "      <td>organic</td>\n",
              "    </tr>\n",
              "    <tr>\n",
              "      <th>5</th>\n",
              "      <td>1549980742</td>\n",
              "      <td>8855508aad</td>\n",
              "      <td>https://host.ru/df646c3676cc259fa0</td>\n",
              "      <td>Russia</td>\n",
              "      <td>fc43898e47</td>\n",
              "      <td>yandex</td>\n",
              "      <td>organic</td>\n",
              "    </tr>\n",
              "    <tr>\n",
              "      <th>6</th>\n",
              "      <td>1549980742</td>\n",
              "      <td>b0f66adc83</td>\n",
              "      <td>https://host.ru/b8b58337d272ee7b15</td>\n",
              "      <td>Russia</td>\n",
              "      <td>13fc55e781</td>\n",
              "      <td>paid</td>\n",
              "      <td>ad</td>\n",
              "    </tr>\n",
              "    <tr>\n",
              "      <th>7</th>\n",
              "      <td>1549980754</td>\n",
              "      <td>837885c8f8</td>\n",
              "      <td>https://host.ru/108ce4b365afb7b88e</td>\n",
              "      <td>Russia</td>\n",
              "      <td>cb5082b6f6</td>\n",
              "      <td>direct</td>\n",
              "      <td>NaN</td>\n",
              "    </tr>\n",
              "    <tr>\n",
              "      <th>8</th>\n",
              "      <td>1549980760</td>\n",
              "      <td>af5570f5a1</td>\n",
              "      <td>https://host.ru/3004a8273caeef2867</td>\n",
              "      <td>China</td>\n",
              "      <td>45664f7af2</td>\n",
              "      <td>direct</td>\n",
              "      <td>NaN</td>\n",
              "    </tr>\n",
              "    <tr>\n",
              "      <th>9</th>\n",
              "      <td>1549980765</td>\n",
              "      <td>3e7077fd2f</td>\n",
              "      <td>https://host.ru/df646c3676cc259fa0</td>\n",
              "      <td>Russia</td>\n",
              "      <td>6f9de8c8b6</td>\n",
              "      <td>email</td>\n",
              "      <td>ad</td>\n",
              "    </tr>\n",
              "  </tbody>\n",
              "</table>\n",
              "</div>"
            ],
            "text/plain": [
              "    timestamp    visit_id  ... traffic_source source_type\n",
              "0  1549980692  e3b0c44298  ...         yandex     organic\n",
              "1  1549980704  6e340b9cff  ...         direct         NaN\n",
              "2  1549980715  96a296d224  ...         yandex     organic\n",
              "3  1549980725  709e80c884  ...         yandex     organic\n",
              "4  1549980736  df3f619804  ...         yandex     organic\n",
              "5  1549980742  8855508aad  ...         yandex     organic\n",
              "6  1549980742  b0f66adc83  ...           paid          ad\n",
              "7  1549980754  837885c8f8  ...         direct         NaN\n",
              "8  1549980760  af5570f5a1  ...         direct         NaN\n",
              "9  1549980765  3e7077fd2f  ...          email          ad\n",
              "\n",
              "[10 rows x 7 columns]"
            ]
          },
          "metadata": {
            "tags": []
          },
          "execution_count": 3
        }
      ]
    },
    {
      "cell_type": "markdown",
      "metadata": {
        "id": "7S_P1ff8GnEb",
        "colab_type": "text"
      },
      "source": [
        "**Задание 2**\n",
        "\n",
        "В файле URLs.txt содержатся url страниц новостного сайта. Вам необходимо отфильтровать его по адресам страниц с текстами новостей. Известно, что шаблон страницы новостей имеет внутри url следующую конструкцию: /, затем 8 цифр, затем дефис. Выполните следующие действия:\n",
        "1. Прочитайте содержимое файла с датафрейм\n",
        "2. Отфильтруйте страницы с текстом новостей, используя метод str.contains и регулярное выражение в соответствии с заданным шаблоном"
      ]
    },
    {
      "cell_type": "code",
      "metadata": {
        "id": "MxySFS7cGnEe",
        "colab_type": "code",
        "outputId": "88447bd4-8c8b-47b1-a901-46d5b568b728",
        "colab": {
          "base_uri": "https://localhost:8080/",
          "height": 228
        }
      },
      "source": [
        "file_urls = pd.read_csv(trajectory+'URLs.txt')\n",
        "file_urls.loc[file_urls.url.str.contains(r'/\\d{8}-'), 'url']\n"
      ],
      "execution_count": 4,
      "outputs": [
        {
          "output_type": "execute_result",
          "data": {
            "text/plain": [
              "3     /politics/36188461-s-marta-zhizn-rossiyan-susc...\n",
              "4     /world/36007585-tramp-pridumal-kak-reshit-ukra...\n",
              "5     /science/36157853-nasa-sobiraet-ekstrennuyu-pr...\n",
              "6     /video/36001498-poyavilis-pervye-podrobnosti-g...\n",
              "7     /world/36007585-tramp-pridumal-kak-reshit-ukra...\n",
              "                            ...                        \n",
              "88    /cis/35984145-kreml-prokommentiroval-soobschen...\n",
              "89    /video/36071019-olimpiyskie-obekty-rio-prevrat...\n",
              "90    /science/36151301-nazvano-posledstvie-zloupotr...\n",
              "91    /incidents/36027330-vospitatelnitsu-zatravili-...\n",
              "92    /world/36103095-dominikanskih-zhurnalistov-ubi...\n",
              "Name: url, Length: 84, dtype: object"
            ]
          },
          "metadata": {
            "tags": []
          },
          "execution_count": 4
        }
      ]
    },
    {
      "cell_type": "markdown",
      "metadata": {
        "id": "CszMcdNlGnEp",
        "colab_type": "text"
      },
      "source": [
        "**Задание 3**\n",
        "\n",
        "В датафрейме data создайте столбец lemmas, в котором вычислите леммы поисковых запросов из столбца keyword. Леммы должны иметь строковый тип."
      ]
    },
    {
      "cell_type": "code",
      "metadata": {
        "id": "IbeR9voc67T8",
        "colab_type": "code",
        "colab": {
          "base_uri": "https://localhost:8080/",
          "height": 142
        },
        "outputId": "f875dccd-247f-4311-87f5-8224dd5ad8aa"
      },
      "source": [
        "!pip install pymystem3\n"
      ],
      "execution_count": 5,
      "outputs": [
        {
          "output_type": "stream",
          "text": [
            "Requirement already satisfied: pymystem3 in /usr/local/lib/python3.6/dist-packages (0.2.0)\n",
            "Requirement already satisfied: requests in /usr/local/lib/python3.6/dist-packages (from pymystem3) (2.21.0)\n",
            "Requirement already satisfied: certifi>=2017.4.17 in /usr/local/lib/python3.6/dist-packages (from requests->pymystem3) (2019.11.28)\n",
            "Requirement already satisfied: idna<2.9,>=2.5 in /usr/local/lib/python3.6/dist-packages (from requests->pymystem3) (2.8)\n",
            "Requirement already satisfied: chardet<3.1.0,>=3.0.2 in /usr/local/lib/python3.6/dist-packages (from requests->pymystem3) (3.0.4)\n",
            "Requirement already satisfied: urllib3<1.25,>=1.21.1 in /usr/local/lib/python3.6/dist-packages (from requests->pymystem3) (1.24.3)\n"
          ],
          "name": "stdout"
        }
      ]
    },
    {
      "cell_type": "code",
      "metadata": {
        "id": "CS37liG27jGm",
        "colab_type": "code",
        "colab": {}
      },
      "source": [
        "from pymystem3 import Mystem\n",
        "data = pd.DataFrame({\n",
        "    'keyword': ['курс гривны к рублю', 'доллары в рубли', '100 долларов в рублях', 'курс рубля'],\n",
        "    'shows': [125076, 114173, 97534, 53546],\n",
        "})\n",
        "data['lemmas'] = data.keyword.apply(lambda x:''.join(Mystem().lemmatize(x)).replace('\\n', ''))\n",
        "data"
      ],
      "execution_count": 0,
      "outputs": []
    }
  ]
}