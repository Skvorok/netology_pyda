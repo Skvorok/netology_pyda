{
  "nbformat": 4,
  "nbformat_minor": 0,
  "metadata": {
    "kernelspec": {
      "display_name": "Python 3",
      "language": "python",
      "name": "python3"
    },
    "language_info": {
      "codemirror_mode": {
        "name": "ipython",
        "version": 3
      },
      "file_extension": ".py",
      "mimetype": "text/x-python",
      "name": "python",
      "nbconvert_exporter": "python",
      "pygments_lexer": "ipython3",
      "version": "3.7.4"
    },
    "colab": {
      "name": "7hw - errors.",
      "provenance": [],
      "collapsed_sections": [],
      "include_colab_link": true
    }
  },
  "cells": [
    {
      "cell_type": "markdown",
      "metadata": {
        "id": "view-in-github",
        "colab_type": "text"
      },
      "source": [
        "<a href=\"https://colab.research.google.com/github/Skvorok/netology_pyda/blob/master/7hw_errors_.ipynb\" target=\"_parent\"><img src=\"https://colab.research.google.com/assets/colab-badge.svg\" alt=\"Open In Colab\"/></a>"
      ]
    },
    {
      "cell_type": "markdown",
      "metadata": {
        "id": "jRZjnhgww6N0",
        "colab_type": "text"
      },
      "source": [
        "Домашнее задание к лекции \"Исключения и обработка ошибок\""
      ]
    },
    {
      "cell_type": "code",
      "metadata": {
        "id": "ine-qct7w6N3",
        "colab_type": "code",
        "colab": {}
      },
      "source": [
        "Задание 1\n",
        "Напишите функцию date_range, которая возвращает список дней между датами start_date и end_date. \n",
        "Даты должны вводиться в формате YYYY-MM-DD."
      ],
      "execution_count": 0,
      "outputs": []
    },
    {
      "cell_type": "code",
      "metadata": {
        "id": "3lUgOFdlw6N6",
        "colab_type": "code",
        "outputId": "225ed2ca-87aa-42f2-e706-df7a8542f493",
        "colab": {
          "base_uri": "https://localhost:8080/",
          "height": 173
        }
      },
      "source": [
        "def date_range(start_date, end_date):\n",
        "    from datetime import datetime\n",
        "    from datetime import timedelta\n",
        "    final_code = []\n",
        "    if start_date < end_date:\n",
        "        actual_date = datetime.strptime(start_date, '%Y-%m-%d')\n",
        "        actual_date_1 = datetime.strptime(end_date, '%Y-%m-%d')\n",
        "        while actual_date < actual_date_1:\n",
        "            actual_date += timedelta(days = 1)\n",
        "            final_code.append(actual_date.strftime('%Y-%m-%d'))\n",
        "    return final_code\n",
        "\n",
        "start_date = '2020-01-01'\n",
        "end_date = '2020-01-10'\n",
        "date_range(start_date, end_date)\n"
      ],
      "execution_count": 11,
      "outputs": [
        {
          "output_type": "execute_result",
          "data": {
            "text/plain": [
              "['2020-01-02',\n",
              " '2020-01-03',\n",
              " '2020-01-04',\n",
              " '2020-01-05',\n",
              " '2020-01-06',\n",
              " '2020-01-07',\n",
              " '2020-01-08',\n",
              " '2020-01-09',\n",
              " '2020-01-10']"
            ]
          },
          "metadata": {
            "tags": []
          },
          "execution_count": 11
        }
      ]
    },
    {
      "cell_type": "code",
      "metadata": {
        "id": "c0_FqWcLw6N9",
        "colab_type": "code",
        "colab": {}
      },
      "source": [
        "Задание 2\n",
        "Дополните функцию из первого задания проверкой на корректность дат.\n",
        "В случае неверного формата или если start_date > end_date должен возвращаться пустой список.\n",
        "\n"
      ],
      "execution_count": 0,
      "outputs": []
    },
    {
      "cell_type": "code",
      "metadata": {
        "id": "qFGO_oAHw6OA",
        "colab_type": "code",
        "outputId": "ff22982e-c926-4d64-a496-8af5efcaea35",
        "colab": {
          "base_uri": "https://localhost:8080/",
          "height": 51
        }
      },
      "source": [
        "def date_range(start_date, end_date):\n",
        "    from datetime import datetime\n",
        "    from datetime import timedelta\n",
        "    final_code = []\n",
        "    try:\n",
        "        if start_date < end_date:\n",
        "            actual_date = datetime.strptime(start_date, '%Y-%m-%d')\n",
        "            actual_date_1 = datetime.strptime(end_date, '%Y-%m-%d')\n",
        "            while actual_date < actual_date_1:\n",
        "                actual_date += timedelta(days = 1)\n",
        "                final_code.append(actual_date.strftime('%Y-%m-%d'))\n",
        "            return final_code\n",
        "        return []\n",
        "    except:\n",
        "        print('Ошибка значения')\n",
        "        return []\n",
        "\n",
        "start_date = '2020-0-01'\n",
        "end_date = '2020-01-10'\n",
        "date_range(start_date, end_date)"
      ],
      "execution_count": 17,
      "outputs": [
        {
          "output_type": "stream",
          "text": [
            "Ошибка значения\n"
          ],
          "name": "stdout"
        },
        {
          "output_type": "execute_result",
          "data": {
            "text/plain": [
              "[]"
            ]
          },
          "metadata": {
            "tags": []
          },
          "execution_count": 17
        }
      ]
    },
    {
      "cell_type": "code",
      "metadata": {
        "id": "sYkCNzDdw6OC",
        "colab_type": "code",
        "colab": {}
      },
      "source": [
        "Задание 3\n",
        "Дан поток дат в формате YYYY-MM-DD, в которых встречаются некорректные значения:\n",
        "stream = [‘2018-04-02’, ‘2018-02-29’, ‘2018-19-02’]\n",
        "\n",
        "Напишите функцию, которая проверяет эти даты на корректность.\n",
        "Т. е. для каждой даты возвращает True (дата корректна) или False (некорректная дата).\n",
        "\n"
      ],
      "execution_count": 0,
      "outputs": []
    },
    {
      "cell_type": "code",
      "metadata": {
        "id": "UknRJsEFw6OE",
        "colab_type": "code",
        "outputId": "6c4c03f8-30d2-4197-bcb5-f3a626585740",
        "colab": {
          "base_uri": "https://localhost:8080/",
          "height": 34
        }
      },
      "source": [
        "def verify_date(input_data):\n",
        "    from datetime import datetime\n",
        "    final_code = []\n",
        "    for x in input_data:\n",
        "        try:\n",
        "            datetime.strptime(x, '%Y-%m-%d')\n",
        "            final_code.append({x:True})\n",
        "        except:\n",
        "            final_code.append({x:False})\n",
        "    return final_code\n",
        "\n",
        "\n",
        "stream = ['2018-04-02', '2018-02-29', '2018-19-02']\n",
        "verify_date(stream)"
      ],
      "execution_count": 19,
      "outputs": [
        {
          "output_type": "execute_result",
          "data": {
            "text/plain": [
              "[{'2018-04-02': True}, {'2018-02-29': False}, {'2018-19-02': False}]"
            ]
          },
          "metadata": {
            "tags": []
          },
          "execution_count": 19
        }
      ]
    }
  ]
}