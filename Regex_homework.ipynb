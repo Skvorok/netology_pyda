{
  "nbformat": 4,
  "nbformat_minor": 0,
  "metadata": {
    "kernelspec": {
      "display_name": "Python 3",
      "language": "python",
      "name": "python3"
    },
    "language_info": {
      "codemirror_mode": {
        "name": "ipython",
        "version": 3
      },
      "file_extension": ".py",
      "mimetype": "text/x-python",
      "name": "python",
      "nbconvert_exporter": "python",
      "pygments_lexer": "ipython3",
      "version": "3.7.1"
    },
    "colab": {
      "name": "Regex-homework.ipynb",
      "provenance": [],
      "include_colab_link": true
    }
  },
  "cells": [
    {
      "cell_type": "markdown",
      "metadata": {
        "id": "view-in-github",
        "colab_type": "text"
      },
      "source": [
        "<a href=\"https://colab.research.google.com/github/Skvorok/netology_pyda/blob/master/Regex_homework.ipynb\" target=\"_parent\"><img src=\"https://colab.research.google.com/assets/colab-badge.svg\" alt=\"Open In Colab\"/></a>"
      ]
    },
    {
      "cell_type": "markdown",
      "metadata": {
        "id": "FC7stNZeeNHF",
        "colab_type": "text"
      },
      "source": [
        "# Домашнее задание к лекции \"Регулярные выражения\"\n",
        "Для зачета необходимо выполнить 4 задания.  \n",
        "Для зачета с отличием – все."
      ]
    },
    {
      "cell_type": "markdown",
      "metadata": {
        "id": "hsuFWFteeNHI",
        "colab_type": "text"
      },
      "source": [
        "## Задание 1"
      ]
    },
    {
      "cell_type": "markdown",
      "metadata": {
        "id": "WYzpTiileNHJ",
        "colab_type": "text"
      },
      "source": [
        "Напишите функцию, которая принимает на вход строку и проверяет является ли она валидным транспортным номером. Если да, то функция должна возвращать отдельно номер и регион."
      ]
    },
    {
      "cell_type": "code",
      "metadata": {
        "id": "sd04RmOdeNHK",
        "colab_type": "code",
        "colab": {
          "base_uri": "https://localhost:8080/",
          "height": 52
        },
        "outputId": "7a306eae-8294-4e1b-9ce8-9cf02686579b"
      },
      "source": [
        "import re\n",
        "def vehicle_number(x):\n",
        "    vehicle_regex = r'\\b([АВЕКМНОРСТУХ]\\d{3}[АВЕКМНОРСТУХ]{2})(\\d{2,3})'\n",
        "    x = x.replace(' ', '')\n",
        "    final_code = re.findall(vehicle_regex, x)\n",
        "    return final_code\n",
        "\n",
        "numbers=[' С 227 НА69 rus', 'В 555РХ 39 rus']\n",
        "numbers = ','.join(numbers)\n",
        "print(f'Строка с номерами {numbers}')\n",
        "print(vehicle_number(numbers))"
      ],
      "execution_count": 25,
      "outputs": [
        {
          "output_type": "stream",
          "text": [
            "Строка с номерами  С 227 НА69 rus,В 555РХ 39 rus\n",
            "[('С227НА', '69'), ('В555РХ', '39')]\n"
          ],
          "name": "stdout"
        }
      ]
    },
    {
      "cell_type": "markdown",
      "metadata": {
        "id": "_Q6JHdM5eNHN",
        "colab_type": "text"
      },
      "source": [
        "## Задание 2"
      ]
    },
    {
      "cell_type": "markdown",
      "metadata": {
        "id": "PgHZzO58eNHO",
        "colab_type": "text"
      },
      "source": [
        "Напишите функцию, которая проверяет e-mail адрес на валидность по стандарту RFC822: http://www.w3.org/Protocols/rfc822/. Для этого постарайтесь написать (в крайнем случае найти) самый полный шаблон для проверки e-mail адресов через регулярное выражение. Разберитесь и напишите примеры, какие ваш шаблон может не охватить."
      ]
    },
    {
      "cell_type": "code",
      "metadata": {
        "id": "BZfJDOFAeNHP",
        "colab_type": "code",
        "colab": {
          "base_uri": "https://localhost:8080/",
          "height": 104
        },
        "outputId": "071889bb-2c16-49a8-d1f6-352b057810e6"
      },
      "source": [
        "def verify_email(x):\n",
        "  regex_string = r\"[$\\w#+'%-/=~&^_?`{*}|]+@[\\w\\.-]+\"\n",
        "  final_code = re.findall(regex_string, x)\n",
        "  if final_code != []:\n",
        "    return f\"Корректные адреса: \\n {', '.join(final_code)}\"\n",
        "  else:\n",
        "    return 'Некорректные адреса'\n",
        "\n",
        "emails = ['*+#=?~@trinex.ru', 'trulyfake.987654321@some.domain', '\"total error @yandex.ru\"']\n",
        "emails = ' '.join(emails)\n",
        "print(f'Строка с адресами:\\n{emails}\\n')\n",
        "print(verify_email(emails))"
      ],
      "execution_count": 26,
      "outputs": [
        {
          "output_type": "stream",
          "text": [
            "Строка с адресами:\n",
            "*+#=?~@trinex.ru trulyfake.987654321@some.domain \"total error @yandex.ru\"\n",
            "\n",
            "Корректные адреса: \n",
            " *+#=?~@trinex.ru, trulyfake.987654321@some.domain\n"
          ],
          "name": "stdout"
        }
      ]
    },
    {
      "cell_type": "markdown",
      "metadata": {
        "id": "YgQmGa7feNHR",
        "colab_type": "text"
      },
      "source": [
        "## Задание 3\n",
        "Напишите функцию, которая будет удалять все последовательные повторы слов из заданной строки."
      ]
    },
    {
      "cell_type": "code",
      "metadata": {
        "id": "hZf-OLwBeNHS",
        "colab_type": "code",
        "colab": {
          "base_uri": "https://localhost:8080/",
          "height": 104
        },
        "outputId": "2b480fc2-eadb-4533-841a-4809825a5735"
      },
      "source": [
        "def verify_a_repeat(some_text):\n",
        "    regex_string = r\"(\\w+)(\\s\\1)+\"\n",
        "    final_code = re.sub(regex_string, r'\\1', some_text)\n",
        "    return final_code \n",
        "\n",
        "repeating_text = 'Python может может освоить любой любой любой желающий.'\n",
        "print(f'Исходный текст:\\n{repeating_text}')\n",
        "print('\\nТекст после применения функции:')\n",
        "print(verify_a_repeat(repeating_text))\n",
        "\n"
      ],
      "execution_count": 27,
      "outputs": [
        {
          "output_type": "stream",
          "text": [
            "Исходный текст:\n",
            "Python может может освоить любой любой любой желающий.\n",
            "\n",
            "Текст после применения функции:\n",
            "Python может освоить любой желающий.\n"
          ],
          "name": "stdout"
        }
      ]
    },
    {
      "cell_type": "markdown",
      "metadata": {
        "id": "Rs89nXvGeNHU",
        "colab_type": "text"
      },
      "source": [
        "## Задание 4\n",
        "Напишите функцию, которая будет проверять номер сотового телефона на валидность, если он валиден, то переводить его в формат:   \n",
        "+7(xxx)-xxx-xx-xx  \n",
        "Постарайтесь предусмотреть как можно больше адекватных форматов изначального ввода номера.\n",
        "Примеры правильных и неправильных форматов:\n",
        "- +7 955 555-55-55;\n",
        "- 955555555;\n",
        "- 8(955)555-55-55;\n",
        "- +7 955 555 55 55;\n",
        "- 7(955) 555-55-55;\n",
        "- +7 955+555+55+55."
      ]
    },
    {
      "cell_type": "code",
      "metadata": {
        "id": "H5XpgeyHeNHU",
        "colab_type": "code",
        "colab": {}
      },
      "source": [
        ""
      ],
      "execution_count": 0,
      "outputs": []
    },
    {
      "cell_type": "code",
      "metadata": {
        "colab_type": "code",
        "id": "X0-RNrmF83YH",
        "colab": {
          "base_uri": "https://localhost:8080/",
          "height": 225
        },
        "outputId": "1b5101f7-e7d2-49c8-803b-5070a3e6b7bd"
      },
      "source": [
        "def verify_phone(x):\n",
        "    regex_string = r\"(\\+*7*8*)\\W*(\\d{3})\\W*(\\d{3})\\W*(\\d{2})\\W*(\\d{2})\"\n",
        "    true_regex_string = r'+7(\\2)-\\3-\\4-\\5'\n",
        "    x = re.sub(r'[^0-9]','', x)\n",
        "    final_code = re.findall(regex_string, x)\n",
        "    if final_code != []:\n",
        "        return re.sub(regex_string, true_regex_string, x)\n",
        "    else:\n",
        "        return f'Некорректные номера телефона: {x}'\n",
        "\n",
        "# правильный формат номера телефона: +7(xxx)-xxx-xx-xx\n",
        "inputs = '+7 927 123=+09-1-1;967 6 9 0000;+7 988 321 22 22;+7 008+78 1 +67-76.'\n",
        "inputs = inputs.split(';')\n",
        "for i in inputs:\n",
        "    print(f'{i}\\n{verify_phone(i)}\\n')\n",
        "\n"
      ],
      "execution_count": 29,
      "outputs": [
        {
          "output_type": "stream",
          "text": [
            "+7 927 123=+09-1-1\n",
            "+7(927)-123-09-11\n",
            "\n",
            "967 6 9 0000\n",
            "Некорректные номера телефона: 967690000\n",
            "\n",
            "+7 988 321 22 22\n",
            "+7(988)-321-22-22\n",
            "\n",
            "+7 008+78 1 +67-76.\n",
            "+7(008)-781-67-76\n",
            "\n"
          ],
          "name": "stdout"
        }
      ]
    }
  ]
}