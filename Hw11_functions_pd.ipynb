{
  "nbformat": 4,
  "nbformat_minor": 0,
  "metadata": {
    "kernelspec": {
      "display_name": "Python 3",
      "language": "python",
      "name": "python3"
    },
    "language_info": {
      "codemirror_mode": {
        "name": "ipython",
        "version": 3
      },
      "file_extension": ".py",
      "mimetype": "text/x-python",
      "name": "python",
      "nbconvert_exporter": "python",
      "pygments_lexer": "ipython3",
      "version": "3.7.4"
    },
    "colab": {
      "name": " Hw11-functions-pd.ipynb",
      "provenance": [],
      "include_colab_link": true
    }
  },
  "cells": [
    {
      "cell_type": "markdown",
      "metadata": {
        "id": "view-in-github",
        "colab_type": "text"
      },
      "source": [
        "<a href=\"https://colab.research.google.com/github/Skvorok/netology_pyda/blob/master/Hw11_functions_pd.ipynb\" target=\"_parent\"><img src=\"https://colab.research.google.com/assets/colab-badge.svg\" alt=\"Open In Colab\"/></a>"
      ]
    },
    {
      "cell_type": "markdown",
      "metadata": {
        "id": "_aI09cyk50Q6",
        "colab_type": "text"
      },
      "source": [
        "**Домашнее задание**\n",
        "\n",
        "**Задание 1**\n",
        "\n",
        "Напишите функцию, которая классифицирует фильмы из материалов занятия по следующим правилам:\n",
        "\t- оценка 2 и меньше - низкий рейтинг\n",
        "\t- оценка 4 и меньше - средний рейтинг\n",
        "\t- оценка 4.5 и 5 - высокий рейтинг\n",
        "\n",
        "Результат классификации запишите в столбец class\n",
        "\n"
      ]
    },
    {
      "cell_type": "code",
      "metadata": {
        "id": "TG-_CKvz50Q_",
        "colab_type": "code",
        "colab": {
          "base_uri": "https://localhost:8080/",
          "height": 123
        },
        "outputId": "e6e4424c-b7f8-4a5c-8c43-551045c3411b"
      },
      "source": [
        "import platform\n",
        "if platform.system() == 'Linux':\n",
        "  from google.colab import drive\n",
        "  drive.mount('/content/drive')\n",
        "  trajectory = '/content/drive/My Drive/Colab Notebooks/ml-latest-small/'\n",
        "else:\n",
        "  trajectory = ''"
      ],
      "execution_count": 1,
      "outputs": [
        {
          "output_type": "stream",
          "text": [
            "Go to this URL in a browser: https://accounts.google.com/o/oauth2/auth?client_id=947318989803-6bn6qk8qdgf4n4g3pfee6491hc0brc4i.apps.googleusercontent.com&redirect_uri=urn%3aietf%3awg%3aoauth%3a2.0%3aoob&response_type=code&scope=email%20https%3a%2f%2fwww.googleapis.com%2fauth%2fdocs.test%20https%3a%2f%2fwww.googleapis.com%2fauth%2fdrive%20https%3a%2f%2fwww.googleapis.com%2fauth%2fdrive.photos.readonly%20https%3a%2f%2fwww.googleapis.com%2fauth%2fpeopleapi.readonly\n",
            "\n",
            "Enter your authorization code:\n",
            "··········\n",
            "Mounted at /content/drive\n"
          ],
          "name": "stdout"
        }
      ]
    },
    {
      "cell_type": "code",
      "metadata": {
        "id": "kzesbjMs50RP",
        "colab_type": "code",
        "outputId": "ae2b187e-ad23-4d4a-b6a9-44d4560b49f8",
        "colab": {
          "base_uri": "https://localhost:8080/",
          "height": 259
        }
      },
      "source": [
        "def classification (rating):\n",
        "    if rating <= 2:\n",
        "        return 'низкий рейтинг'\n",
        "    elif rating <= 4:\n",
        "        return 'средний рейтинг'\n",
        "    else: \n",
        "        return 'высокий рейтинг' \n",
        "    \n",
        "import pandas as pd\n",
        "data = pd.read_csv(trajectory+'ratings.csv')\n",
        "data['class'] = data.rating.apply(classification)\n",
        "print(data)"
      ],
      "execution_count": 3,
      "outputs": [
        {
          "output_type": "stream",
          "text": [
            "        userId  movieId  rating   timestamp            class\n",
            "0            1        1     4.0   964982703  средний рейтинг\n",
            "1            1        3     4.0   964981247  средний рейтинг\n",
            "2            1        6     4.0   964982224  средний рейтинг\n",
            "3            1       47     5.0   964983815  высокий рейтинг\n",
            "4            1       50     5.0   964982931  высокий рейтинг\n",
            "...        ...      ...     ...         ...              ...\n",
            "100831     610   166534     4.0  1493848402  средний рейтинг\n",
            "100832     610   168248     5.0  1493850091  высокий рейтинг\n",
            "100833     610   168250     5.0  1494273047  высокий рейтинг\n",
            "100834     610   168252     5.0  1493846352  высокий рейтинг\n",
            "100835     610   170875     3.0  1493846415  средний рейтинг\n",
            "\n",
            "[100836 rows x 5 columns]\n"
          ],
          "name": "stdout"
        }
      ]
    },
    {
      "cell_type": "markdown",
      "metadata": {
        "id": "-EAnSA7350RX",
        "colab_type": "text"
      },
      "source": [
        "**Задание 2**\n",
        "\n",
        "Используем файл keywords.csv.\n",
        "\n",
        "Необходимо написать гео-классификатор, который каждой строке сможет выставить географическую принадлежность определенному региону. Т. е. если поисковый запрос содержит название города региона, то в столбце 'region' пишется название этого региона. Если поисковый запрос не содержит названия города, то ставим 'undefined'.\n",
        "\n",
        "Правила распределения по регионам Центр, Северо-Запад и Дальний Восток:\n",
        "\n",
        "geo_data = {\n",
        "\n",
        "    'Центр': ['москва', 'тула', 'ярославль'],\n",
        "\n",
        "    'Северо-Запад': ['петербург', 'псков', 'мурманск'],\n",
        "\n",
        "    'Дальний Восток': ['владивосток', 'сахалин', 'хабаровск']\n",
        "\n",
        "}\n",
        "\n",
        "Результат классификации запишите в отдельный столбец region.\n",
        "\n",
        "\n",
        "\n"
      ]
    },
    {
      "cell_type": "code",
      "metadata": {
        "id": "aLXuGElK50RZ",
        "colab_type": "code",
        "outputId": "6998fcf3-88ed-4ce7-f01d-1b942e73272d",
        "colab": {
          "base_uri": "https://localhost:8080/",
          "height": 121
        }
      },
      "source": [
        "def classification(x):\n",
        "    geo_data = {'Центр': ['москва', 'тула', 'ярославль'],\n",
        "                'Северо-Запад': ['петербург', 'псков', 'мурманск'],\n",
        "                'Дальний Восток': ['владивосток', 'сахалин', 'хабаровск']}\n",
        "    x = x.lower().split(' ')\n",
        "    for k in geo_data:\n",
        "      for y in x:\n",
        "        if y in geo_data[k]:\n",
        "          return k\n",
        "    return 'undefined'  \n",
        "\n",
        "data = pd.read_csv(trajectory+ 'keywords.csv')\n",
        "data['region'] = data.keyword.apply(classification)\n",
        "\n",
        "data_2 = data.groupby('region').count()\n",
        "print(data_2)"
      ],
      "execution_count": 14,
      "outputs": [
        {
          "output_type": "stream",
          "text": [
            "                keyword  shows\n",
            "region                        \n",
            "undefined         99406  99406\n",
            "Дальний Восток       64     64\n",
            "Северо-Запад        146    146\n",
            "Центр               384    384\n"
          ],
          "name": "stdout"
        }
      ]
    },
    {
      "cell_type": "code",
      "metadata": {
        "id": "halFmJDs50Vp",
        "colab_type": "code",
        "colab": {}
      },
      "source": [
        ""
      ],
      "execution_count": 0,
      "outputs": []
    }
  ]
}