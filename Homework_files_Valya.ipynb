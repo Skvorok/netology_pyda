{
  "nbformat": 4,
  "nbformat_minor": 0,
  "metadata": {
    "kernelspec": {
      "display_name": "Python 3",
      "language": "python",
      "name": "python3"
    },
    "language_info": {
      "codemirror_mode": {
        "name": "ipython",
        "version": 3
      },
      "file_extension": ".py",
      "mimetype": "text/x-python",
      "name": "python",
      "nbconvert_exporter": "python",
      "pygments_lexer": "ipython3",
      "version": "3.7.4"
    },
    "colab": {
      "name": "Homework-files-Valya.ipynb",
      "provenance": [],
      "include_colab_link": true
    }
  },
  "cells": [
    {
      "cell_type": "markdown",
      "metadata": {
        "id": "view-in-github",
        "colab_type": "text"
      },
      "source": [
        "<a href=\"https://colab.research.google.com/github/Skvorok/netology_pyda/blob/master/Homework_files_Valya.ipynb\" target=\"_parent\"><img src=\"https://colab.research.google.com/assets/colab-badge.svg\" alt=\"Open In Colab\"/></a>"
      ]
    },
    {
      "cell_type": "markdown",
      "metadata": {
        "id": "jHi5xAXLKWnL",
        "colab_type": "text"
      },
      "source": [
        "# Домашнее задание\n",
        "1. Переведите содержимое файла purchase_log.txt в словарь purchases вида:\n",
        "```python\n",
        "{'1840e0b9d4': 'Продукты', ...}\n",
        "```\n",
        "\n",
        "2. Для каждого user_id в файле visit_log.csv добавьте третий столбец с категорией покупки (если покупка была).\n",
        "\n",
        "3. Запишите в файл funnel.csv визиты из файла visit_log.csv, в которых были покупки с указанием категории.\n",
        "\n",
        "Учтите условия на данные:\n",
        "- содержимое purchase_log.txt помещается в оперативную память компьютера\n",
        "- содержимое visit_log.csv - нет; используйте только построчную обработку этого файла"
      ]
    },
    {
      "cell_type": "code",
      "metadata": {
        "scrolled": true,
        "id": "xPeAEIYCKWnP",
        "colab_type": "code",
        "outputId": "6e931a3d-f12a-4006-9859-3a9b129826d3",
        "colab": {
          "base_uri": "https://localhost:8080/",
          "height": 72
        }
      },
      "source": [
        "import platform\n",
        "if platform.system() == 'Linux':\n",
        "    trajectory = '/content/drive/My Drive/Colab Notebooks/'\n",
        "    from google.colab import drive\n",
        "    drive.mount('/content/drive')\n",
        "else:\n",
        "    trajectory = ''\n",
        "    \n",
        "import json\n",
        "with open(trajectory + 'purchase_log.txt', 'r', encoding = 'utf-8') as purchase: \n",
        "    purchases = {} \n",
        "    pattern = [] \n",
        "    o = 0 \n",
        "    for i in purchase: \n",
        "        pattern = list(json.loads(i).values())\n",
        "        purchases[pattern[0]] = pattern[1]\n",
        "        o += 1\n",
        "        if o > 50:\n",
        "            break\n",
        "    \n",
        "    print(purchases)"
      ],
      "execution_count": 8,
      "outputs": [
        {
          "output_type": "stream",
          "text": [
            "Drive already mounted at /content/drive; to attempt to forcibly remount, call drive.mount(\"/content/drive\", force_remount=True).\n",
            "{'user_id': 'category', '1840e0b9d4': 'Продукты', '4e4f90fcfb': 'Электроника', 'afea8d72fc': 'Электроника', '373a6055fe': 'Бытовая техника', '9b2ab046f3': 'Электроника', '9f39d307c3': 'Электроника', '44edeffc91': 'Продукты', '704474fa2d': 'Продукты', '1de31be403': 'Бытовая техника', 'b71f36a5e4': 'Продукты', '79843a685a': 'Продукты', 'ff68cee0d6': 'Бытовая техника', 'e8447c40e2': 'Досуг', '98d290be27': 'Электроника', 'fa0079a5a8': 'Досуг', '22d2f03a17': 'Досуг', '3f8e1ccd3f': 'Электроника', '81a9988b83': 'Электроника', '65f44a2eb7': 'Досуг', '5f8fbb0149': 'Бытовая техника', '3ecff691fd': 'Электроника', 'dd0e912251': 'Электроника', '9250593d55': 'Электроника', '37c4e090e4': 'Электроника', '22fa3ea76f': 'Электроника', '73b876b237': 'Электроника', 'f983a69d67': 'Товары для животных', '4ea17212f8': 'Продукты', 'c6de96a5e2': 'Товары для животных', 'd8e3bcee53': 'Продукты', '680aa815f9': 'Продукты', '4a92a68cf9': 'Электроника', '905e60cb52': 'Бытовая техника', '393bcfb298': 'Продукты', '06d450cc57': 'Электроника', 'b60ce22f17': 'Электроника', '6f159c4c2e': 'Товары для животных', '564202f6bd': 'Электроника', '1908683775': 'Электроника', '8fd957a463': 'Продукты', '72e0a3f1d0': 'Бытовая техника', '7f5f56e517': 'Досуг', 'bc1a0a7e26': 'Досуг', '17639fe89d': 'Досуг', '74c9201f84': 'Электроника', 'bc4ebda0df': 'Досуг', 'fe4615dd15': 'Досуг', 'd2c560746d': 'Бытовая техника', 'f0a93d52d2': 'Электроника', 'fe52ded300': 'Электроника'}\n"
          ],
          "name": "stdout"
        }
      ]
    },
    {
      "cell_type": "code",
      "metadata": {
        "scrolled": true,
        "id": "lkEkYbZzKWnX",
        "colab_type": "code",
        "colab": {}
      },
      "source": [
        "with open(trajectory + 'visit_log.csv', 'r') as visit:\n",
        "    output = open(trajectory +'funnel.csv', 'w')\n",
        "    for x in visit:\n",
        "#         print(x)\n",
        "        x=x.strip().split(',')\n",
        "        if x[0] in list(purchases.keys()):\n",
        "            output.write(f'{x[0]},{x[1]},{purchases[x[0]]}\\n')\n",
        "    output.close()\n",
        "    visit.close()\n",
        "    "
      ],
      "execution_count": 0,
      "outputs": []
    },
    {
      "cell_type": "code",
      "metadata": {
        "id": "h8kUsY9FKWnq",
        "colab_type": "code",
        "colab": {}
      },
      "source": [
        ""
      ],
      "execution_count": 0,
      "outputs": []
    }
  ]
}